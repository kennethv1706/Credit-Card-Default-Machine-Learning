{
 "cells": [
  {
   "cell_type": "markdown",
   "metadata": {},
   "source": [
    "# i. Introduction"
   ]
  },
  {
   "cell_type": "markdown",
   "metadata": {},
   "source": [
    "Background: \n",
    "I am a data scientist at PT. ABC, and I have been assigned a project to manage a dataset related to user payment credit scores. My task is to select the appropriate model to use on this dataset and provide predictions regarding whether users will be able to pay for the next month or not, based on their historical data."
   ]
  },
  {
   "cell_type": "markdown",
   "metadata": {},
   "source": [
    "Problem Statement: \n",
    "The objective of this project is to predict users' ability to make payments in order to reduce the number of users who are unable to pay by 10% within a 3-month timeframe, thereby minimizing losses for PT. ABC."
   ]
  },
  {
   "cell_type": "markdown",
   "metadata": {},
   "source": [
    "Hugging Face : https://huggingface.co/spaces/kennethv1706/Dataset_Credit_Score\n"
   ]
  },
  {
   "cell_type": "markdown",
   "metadata": {},
   "source": [
    "# ii. SQL Query"
   ]
  },
  {
   "cell_type": "markdown",
   "metadata": {},
   "source": [
    "SQL syntax for selecting which columns to use for"
   ]
  },
  {
   "cell_type": "markdown",
   "metadata": {},
   "source": [
    "```sql\n",
    "SELECT\n",
    "    limit_balance,\n",
    "    CAST(sex AS INT64) AS sex,\n",
    "    CAST(education_level AS INT64) AS education_level,\n",
    "    CAST(marital_status AS INT64) AS marital_status,\n",
    "    age,\n",
    "    pay_0,\n",
    "    pay_2,\n",
    "    pay_3,\n",
    "    pay_4,\n",
    "    CAST(pay_5 AS FLOAT64) AS pay_5,\n",
    "    CAST(pay_6 AS FLOAT64) AS pay_6,\n",
    "    bill_amt_1,\n",
    "    bill_amt_2,\n",
    "    bill_amt_3,\n",
    "    bill_amt_4,\n",
    "    bill_amt_5,\n",
    "    bill_amt_6,\n",
    "    pay_amt_1,\n",
    "    pay_amt_2,\n",
    "    pay_amt_3,\n",
    "    pay_amt_4,\n",
    "    pay_amt_5,\n",
    "    pay_amt_6,\n",
    "    CAST(default_payment_next_month AS INT64) AS default_payment_next_month\n",
    "FROM `bigquery-public-data.ml_datasets.credit_card_default`\n",
    "LIMIT 19950;\n",
    "```"
   ]
  },
  {
   "cell_type": "markdown",
   "metadata": {},
   "source": [
    "# iii. Import Libraries "
   ]
  },
  {
   "cell_type": "code",
   "execution_count": 1,
   "metadata": {},
   "outputs": [],
   "source": [
    "#module for preparation and display\n",
    "import pandas as pd\n",
    "import numpy as np\n",
    "import seaborn as sns\n",
    "import matplotlib.pyplot as plt\n",
    "from scipy import stats\n",
    "from scipy.stats import kendalltau\n",
    "import pickle\n",
    "\n",
    "\n",
    "#module for data preprocessing\n",
    "from sklearn.model_selection import train_test_split\n",
    "from sklearn.preprocessing import MinMaxScaler\n",
    "from feature_engine.outliers import Winsorizer , OutlierTrimmer\n",
    "from imblearn.over_sampling import SMOTENC\n",
    "from statsmodels.stats.outliers_influence import variance_inflation_factor\n",
    "\n",
    "#module for library model \n",
    "from sklearn.linear_model import LogisticRegression\n",
    "from sklearn.neighbors import KNeighborsClassifier\n",
    "from sklearn.svm import SVC\n",
    "from sklearn.model_selection import RandomizedSearchCV\n",
    "from sklearn.metrics import classification_report, confusion_matrix, ConfusionMatrixDisplay, f1_score, accuracy_score, precision_score, recall_score\n",
    "from sklearn.model_selection import cross_val_score"
   ]
  },
  {
   "cell_type": "markdown",
   "metadata": {},
   "source": [
    "# iv. Data Loading"
   ]
  },
  {
   "cell_type": "code",
   "execution_count": 2,
   "metadata": {},
   "outputs": [],
   "source": [
    "#loading CSV data that has been saved into CSV form from BigQuery\n",
    "df=pd.read_csv('credit_score.csv')"
   ]
  },
  {
   "cell_type": "code",
   "execution_count": 3,
   "metadata": {},
   "outputs": [
    {
     "data": {
      "text/html": [
       "<div>\n",
       "<style scoped>\n",
       "    .dataframe tbody tr th:only-of-type {\n",
       "        vertical-align: middle;\n",
       "    }\n",
       "\n",
       "    .dataframe tbody tr th {\n",
       "        vertical-align: top;\n",
       "    }\n",
       "\n",
       "    .dataframe thead th {\n",
       "        text-align: right;\n",
       "    }\n",
       "</style>\n",
       "<table border=\"1\" class=\"dataframe\">\n",
       "  <thead>\n",
       "    <tr style=\"text-align: right;\">\n",
       "      <th></th>\n",
       "      <th>limit_balance</th>\n",
       "      <th>sex</th>\n",
       "      <th>education_level</th>\n",
       "      <th>marital_status</th>\n",
       "      <th>age</th>\n",
       "      <th>pay_0</th>\n",
       "      <th>pay_2</th>\n",
       "      <th>pay_3</th>\n",
       "      <th>pay_4</th>\n",
       "      <th>pay_5</th>\n",
       "      <th>...</th>\n",
       "      <th>bill_amt_4</th>\n",
       "      <th>bill_amt_5</th>\n",
       "      <th>bill_amt_6</th>\n",
       "      <th>pay_amt_1</th>\n",
       "      <th>pay_amt_2</th>\n",
       "      <th>pay_amt_3</th>\n",
       "      <th>pay_amt_4</th>\n",
       "      <th>pay_amt_5</th>\n",
       "      <th>pay_amt_6</th>\n",
       "      <th>default_payment_next_month</th>\n",
       "    </tr>\n",
       "  </thead>\n",
       "  <tbody>\n",
       "    <tr>\n",
       "      <th>0</th>\n",
       "      <td>80000.0</td>\n",
       "      <td>1</td>\n",
       "      <td>6</td>\n",
       "      <td>1</td>\n",
       "      <td>54.0</td>\n",
       "      <td>0.0</td>\n",
       "      <td>0.0</td>\n",
       "      <td>0.0</td>\n",
       "      <td>0.0</td>\n",
       "      <td>0.0</td>\n",
       "      <td>...</td>\n",
       "      <td>29296.0</td>\n",
       "      <td>26210.0</td>\n",
       "      <td>17643.0</td>\n",
       "      <td>2545.0</td>\n",
       "      <td>2208.0</td>\n",
       "      <td>1336.0</td>\n",
       "      <td>2232.0</td>\n",
       "      <td>542.0</td>\n",
       "      <td>348.0</td>\n",
       "      <td>1</td>\n",
       "    </tr>\n",
       "    <tr>\n",
       "      <th>1</th>\n",
       "      <td>200000.0</td>\n",
       "      <td>1</td>\n",
       "      <td>4</td>\n",
       "      <td>1</td>\n",
       "      <td>49.0</td>\n",
       "      <td>0.0</td>\n",
       "      <td>0.0</td>\n",
       "      <td>0.0</td>\n",
       "      <td>0.0</td>\n",
       "      <td>0.0</td>\n",
       "      <td>...</td>\n",
       "      <td>50146.0</td>\n",
       "      <td>50235.0</td>\n",
       "      <td>48984.0</td>\n",
       "      <td>1689.0</td>\n",
       "      <td>2164.0</td>\n",
       "      <td>2500.0</td>\n",
       "      <td>3480.0</td>\n",
       "      <td>2500.0</td>\n",
       "      <td>3000.0</td>\n",
       "      <td>0</td>\n",
       "    </tr>\n",
       "    <tr>\n",
       "      <th>2</th>\n",
       "      <td>20000.0</td>\n",
       "      <td>2</td>\n",
       "      <td>6</td>\n",
       "      <td>2</td>\n",
       "      <td>22.0</td>\n",
       "      <td>0.0</td>\n",
       "      <td>0.0</td>\n",
       "      <td>0.0</td>\n",
       "      <td>0.0</td>\n",
       "      <td>0.0</td>\n",
       "      <td>...</td>\n",
       "      <td>1434.0</td>\n",
       "      <td>500.0</td>\n",
       "      <td>0.0</td>\n",
       "      <td>4641.0</td>\n",
       "      <td>1019.0</td>\n",
       "      <td>900.0</td>\n",
       "      <td>0.0</td>\n",
       "      <td>1500.0</td>\n",
       "      <td>0.0</td>\n",
       "      <td>1</td>\n",
       "    </tr>\n",
       "    <tr>\n",
       "      <th>3</th>\n",
       "      <td>260000.0</td>\n",
       "      <td>2</td>\n",
       "      <td>4</td>\n",
       "      <td>2</td>\n",
       "      <td>33.0</td>\n",
       "      <td>0.0</td>\n",
       "      <td>0.0</td>\n",
       "      <td>0.0</td>\n",
       "      <td>0.0</td>\n",
       "      <td>0.0</td>\n",
       "      <td>...</td>\n",
       "      <td>27821.0</td>\n",
       "      <td>30767.0</td>\n",
       "      <td>29890.0</td>\n",
       "      <td>5000.0</td>\n",
       "      <td>5000.0</td>\n",
       "      <td>1137.0</td>\n",
       "      <td>5000.0</td>\n",
       "      <td>1085.0</td>\n",
       "      <td>5000.0</td>\n",
       "      <td>0</td>\n",
       "    </tr>\n",
       "    <tr>\n",
       "      <th>4</th>\n",
       "      <td>150000.0</td>\n",
       "      <td>1</td>\n",
       "      <td>4</td>\n",
       "      <td>2</td>\n",
       "      <td>32.0</td>\n",
       "      <td>0.0</td>\n",
       "      <td>0.0</td>\n",
       "      <td>0.0</td>\n",
       "      <td>-1.0</td>\n",
       "      <td>0.0</td>\n",
       "      <td>...</td>\n",
       "      <td>150464.0</td>\n",
       "      <td>143375.0</td>\n",
       "      <td>146411.0</td>\n",
       "      <td>4019.0</td>\n",
       "      <td>146896.0</td>\n",
       "      <td>157436.0</td>\n",
       "      <td>4600.0</td>\n",
       "      <td>4709.0</td>\n",
       "      <td>5600.0</td>\n",
       "      <td>0</td>\n",
       "    </tr>\n",
       "    <tr>\n",
       "      <th>5</th>\n",
       "      <td>300000.0</td>\n",
       "      <td>2</td>\n",
       "      <td>4</td>\n",
       "      <td>2</td>\n",
       "      <td>32.0</td>\n",
       "      <td>0.0</td>\n",
       "      <td>0.0</td>\n",
       "      <td>0.0</td>\n",
       "      <td>0.0</td>\n",
       "      <td>0.0</td>\n",
       "      <td>...</td>\n",
       "      <td>65150.0</td>\n",
       "      <td>-450.0</td>\n",
       "      <td>700.0</td>\n",
       "      <td>15235.0</td>\n",
       "      <td>1491.0</td>\n",
       "      <td>1303.0</td>\n",
       "      <td>0.0</td>\n",
       "      <td>2000.0</td>\n",
       "      <td>1400.0</td>\n",
       "      <td>0</td>\n",
       "    </tr>\n",
       "    <tr>\n",
       "      <th>6</th>\n",
       "      <td>130000.0</td>\n",
       "      <td>1</td>\n",
       "      <td>1</td>\n",
       "      <td>1</td>\n",
       "      <td>45.0</td>\n",
       "      <td>0.0</td>\n",
       "      <td>0.0</td>\n",
       "      <td>0.0</td>\n",
       "      <td>0.0</td>\n",
       "      <td>0.0</td>\n",
       "      <td>...</td>\n",
       "      <td>62377.0</td>\n",
       "      <td>63832.0</td>\n",
       "      <td>65099.0</td>\n",
       "      <td>2886.0</td>\n",
       "      <td>2908.0</td>\n",
       "      <td>2129.0</td>\n",
       "      <td>2354.0</td>\n",
       "      <td>2366.0</td>\n",
       "      <td>2291.0</td>\n",
       "      <td>0</td>\n",
       "    </tr>\n",
       "    <tr>\n",
       "      <th>7</th>\n",
       "      <td>200000.0</td>\n",
       "      <td>1</td>\n",
       "      <td>1</td>\n",
       "      <td>1</td>\n",
       "      <td>58.0</td>\n",
       "      <td>0.0</td>\n",
       "      <td>0.0</td>\n",
       "      <td>0.0</td>\n",
       "      <td>0.0</td>\n",
       "      <td>0.0</td>\n",
       "      <td>...</td>\n",
       "      <td>124647.0</td>\n",
       "      <td>126921.0</td>\n",
       "      <td>129167.0</td>\n",
       "      <td>7822.0</td>\n",
       "      <td>4417.0</td>\n",
       "      <td>4446.0</td>\n",
       "      <td>4597.0</td>\n",
       "      <td>4677.0</td>\n",
       "      <td>4698.0</td>\n",
       "      <td>0</td>\n",
       "    </tr>\n",
       "    <tr>\n",
       "      <th>8</th>\n",
       "      <td>500000.0</td>\n",
       "      <td>1</td>\n",
       "      <td>1</td>\n",
       "      <td>1</td>\n",
       "      <td>39.0</td>\n",
       "      <td>0.0</td>\n",
       "      <td>0.0</td>\n",
       "      <td>0.0</td>\n",
       "      <td>0.0</td>\n",
       "      <td>0.0</td>\n",
       "      <td>...</td>\n",
       "      <td>174500.0</td>\n",
       "      <td>137406.0</td>\n",
       "      <td>204975.0</td>\n",
       "      <td>54209.0</td>\n",
       "      <td>4607.0</td>\n",
       "      <td>4603.0</td>\n",
       "      <td>5224.0</td>\n",
       "      <td>207440.0</td>\n",
       "      <td>7509.0</td>\n",
       "      <td>0</td>\n",
       "    </tr>\n",
       "    <tr>\n",
       "      <th>9</th>\n",
       "      <td>230000.0</td>\n",
       "      <td>1</td>\n",
       "      <td>1</td>\n",
       "      <td>1</td>\n",
       "      <td>48.0</td>\n",
       "      <td>0.0</td>\n",
       "      <td>0.0</td>\n",
       "      <td>0.0</td>\n",
       "      <td>0.0</td>\n",
       "      <td>0.0</td>\n",
       "      <td>...</td>\n",
       "      <td>105508.0</td>\n",
       "      <td>108101.0</td>\n",
       "      <td>110094.0</td>\n",
       "      <td>7000.0</td>\n",
       "      <td>6607.0</td>\n",
       "      <td>3773.0</td>\n",
       "      <td>4290.0</td>\n",
       "      <td>4164.0</td>\n",
       "      <td>2000.0</td>\n",
       "      <td>0</td>\n",
       "    </tr>\n",
       "  </tbody>\n",
       "</table>\n",
       "<p>10 rows × 24 columns</p>\n",
       "</div>"
      ],
      "text/plain": [
       "   limit_balance  sex  education_level  marital_status   age  pay_0  pay_2  \\\n",
       "0        80000.0    1                6               1  54.0    0.0    0.0   \n",
       "1       200000.0    1                4               1  49.0    0.0    0.0   \n",
       "2        20000.0    2                6               2  22.0    0.0    0.0   \n",
       "3       260000.0    2                4               2  33.0    0.0    0.0   \n",
       "4       150000.0    1                4               2  32.0    0.0    0.0   \n",
       "5       300000.0    2                4               2  32.0    0.0    0.0   \n",
       "6       130000.0    1                1               1  45.0    0.0    0.0   \n",
       "7       200000.0    1                1               1  58.0    0.0    0.0   \n",
       "8       500000.0    1                1               1  39.0    0.0    0.0   \n",
       "9       230000.0    1                1               1  48.0    0.0    0.0   \n",
       "\n",
       "   pay_3  pay_4  pay_5  ...  bill_amt_4  bill_amt_5  bill_amt_6  pay_amt_1  \\\n",
       "0    0.0    0.0    0.0  ...     29296.0     26210.0     17643.0     2545.0   \n",
       "1    0.0    0.0    0.0  ...     50146.0     50235.0     48984.0     1689.0   \n",
       "2    0.0    0.0    0.0  ...      1434.0       500.0         0.0     4641.0   \n",
       "3    0.0    0.0    0.0  ...     27821.0     30767.0     29890.0     5000.0   \n",
       "4    0.0   -1.0    0.0  ...    150464.0    143375.0    146411.0     4019.0   \n",
       "5    0.0    0.0    0.0  ...     65150.0      -450.0       700.0    15235.0   \n",
       "6    0.0    0.0    0.0  ...     62377.0     63832.0     65099.0     2886.0   \n",
       "7    0.0    0.0    0.0  ...    124647.0    126921.0    129167.0     7822.0   \n",
       "8    0.0    0.0    0.0  ...    174500.0    137406.0    204975.0    54209.0   \n",
       "9    0.0    0.0    0.0  ...    105508.0    108101.0    110094.0     7000.0   \n",
       "\n",
       "   pay_amt_2  pay_amt_3  pay_amt_4  pay_amt_5  pay_amt_6  \\\n",
       "0     2208.0     1336.0     2232.0      542.0      348.0   \n",
       "1     2164.0     2500.0     3480.0     2500.0     3000.0   \n",
       "2     1019.0      900.0        0.0     1500.0        0.0   \n",
       "3     5000.0     1137.0     5000.0     1085.0     5000.0   \n",
       "4   146896.0   157436.0     4600.0     4709.0     5600.0   \n",
       "5     1491.0     1303.0        0.0     2000.0     1400.0   \n",
       "6     2908.0     2129.0     2354.0     2366.0     2291.0   \n",
       "7     4417.0     4446.0     4597.0     4677.0     4698.0   \n",
       "8     4607.0     4603.0     5224.0   207440.0     7509.0   \n",
       "9     6607.0     3773.0     4290.0     4164.0     2000.0   \n",
       "\n",
       "   default_payment_next_month  \n",
       "0                           1  \n",
       "1                           0  \n",
       "2                           1  \n",
       "3                           0  \n",
       "4                           0  \n",
       "5                           0  \n",
       "6                           0  \n",
       "7                           0  \n",
       "8                           0  \n",
       "9                           0  \n",
       "\n",
       "[10 rows x 24 columns]"
      ]
     },
     "execution_count": 3,
     "metadata": {},
     "output_type": "execute_result"
    }
   ],
   "source": [
    "#displays top 10 data\n",
    "df.head(10)"
   ]
  },
  {
   "cell_type": "code",
   "execution_count": 4,
   "metadata": {},
   "outputs": [
    {
     "data": {
      "text/html": [
       "<div>\n",
       "<style scoped>\n",
       "    .dataframe tbody tr th:only-of-type {\n",
       "        vertical-align: middle;\n",
       "    }\n",
       "\n",
       "    .dataframe tbody tr th {\n",
       "        vertical-align: top;\n",
       "    }\n",
       "\n",
       "    .dataframe thead th {\n",
       "        text-align: right;\n",
       "    }\n",
       "</style>\n",
       "<table border=\"1\" class=\"dataframe\">\n",
       "  <thead>\n",
       "    <tr style=\"text-align: right;\">\n",
       "      <th></th>\n",
       "      <th>limit_balance</th>\n",
       "      <th>sex</th>\n",
       "      <th>education_level</th>\n",
       "      <th>marital_status</th>\n",
       "      <th>age</th>\n",
       "      <th>pay_0</th>\n",
       "      <th>pay_2</th>\n",
       "      <th>pay_3</th>\n",
       "      <th>pay_4</th>\n",
       "      <th>pay_5</th>\n",
       "      <th>...</th>\n",
       "      <th>bill_amt_4</th>\n",
       "      <th>bill_amt_5</th>\n",
       "      <th>bill_amt_6</th>\n",
       "      <th>pay_amt_1</th>\n",
       "      <th>pay_amt_2</th>\n",
       "      <th>pay_amt_3</th>\n",
       "      <th>pay_amt_4</th>\n",
       "      <th>pay_amt_5</th>\n",
       "      <th>pay_amt_6</th>\n",
       "      <th>default_payment_next_month</th>\n",
       "    </tr>\n",
       "  </thead>\n",
       "  <tbody>\n",
       "    <tr>\n",
       "      <th>2955</th>\n",
       "      <td>360000.0</td>\n",
       "      <td>2</td>\n",
       "      <td>2</td>\n",
       "      <td>2</td>\n",
       "      <td>26.0</td>\n",
       "      <td>-1.0</td>\n",
       "      <td>-1.0</td>\n",
       "      <td>-1.0</td>\n",
       "      <td>-1.0</td>\n",
       "      <td>-2.0</td>\n",
       "      <td>...</td>\n",
       "      <td>0.0</td>\n",
       "      <td>0.0</td>\n",
       "      <td>0.0</td>\n",
       "      <td>463.0</td>\n",
       "      <td>2500.0</td>\n",
       "      <td>0.0</td>\n",
       "      <td>0.0</td>\n",
       "      <td>0.0</td>\n",
       "      <td>0.0</td>\n",
       "      <td>0</td>\n",
       "    </tr>\n",
       "    <tr>\n",
       "      <th>2956</th>\n",
       "      <td>100000.0</td>\n",
       "      <td>1</td>\n",
       "      <td>3</td>\n",
       "      <td>1</td>\n",
       "      <td>40.0</td>\n",
       "      <td>0.0</td>\n",
       "      <td>0.0</td>\n",
       "      <td>-1.0</td>\n",
       "      <td>-1.0</td>\n",
       "      <td>-2.0</td>\n",
       "      <td>...</td>\n",
       "      <td>0.0</td>\n",
       "      <td>0.0</td>\n",
       "      <td>0.0</td>\n",
       "      <td>2000.0</td>\n",
       "      <td>2377.0</td>\n",
       "      <td>40000.0</td>\n",
       "      <td>0.0</td>\n",
       "      <td>0.0</td>\n",
       "      <td>0.0</td>\n",
       "      <td>0</td>\n",
       "    </tr>\n",
       "    <tr>\n",
       "      <th>2957</th>\n",
       "      <td>30000.0</td>\n",
       "      <td>2</td>\n",
       "      <td>3</td>\n",
       "      <td>1</td>\n",
       "      <td>48.0</td>\n",
       "      <td>1.0</td>\n",
       "      <td>-1.0</td>\n",
       "      <td>-1.0</td>\n",
       "      <td>-2.0</td>\n",
       "      <td>-2.0</td>\n",
       "      <td>...</td>\n",
       "      <td>0.0</td>\n",
       "      <td>0.0</td>\n",
       "      <td>0.0</td>\n",
       "      <td>200.0</td>\n",
       "      <td>0.0</td>\n",
       "      <td>0.0</td>\n",
       "      <td>0.0</td>\n",
       "      <td>0.0</td>\n",
       "      <td>0.0</td>\n",
       "      <td>0</td>\n",
       "    </tr>\n",
       "    <tr>\n",
       "      <th>2958</th>\n",
       "      <td>80000.0</td>\n",
       "      <td>2</td>\n",
       "      <td>3</td>\n",
       "      <td>1</td>\n",
       "      <td>39.0</td>\n",
       "      <td>-1.0</td>\n",
       "      <td>-1.0</td>\n",
       "      <td>-1.0</td>\n",
       "      <td>-1.0</td>\n",
       "      <td>-2.0</td>\n",
       "      <td>...</td>\n",
       "      <td>0.0</td>\n",
       "      <td>0.0</td>\n",
       "      <td>5000.0</td>\n",
       "      <td>5000.0</td>\n",
       "      <td>5000.0</td>\n",
       "      <td>0.0</td>\n",
       "      <td>5000.0</td>\n",
       "      <td>5000.0</td>\n",
       "      <td>470.0</td>\n",
       "      <td>0</td>\n",
       "    </tr>\n",
       "    <tr>\n",
       "      <th>2959</th>\n",
       "      <td>20000.0</td>\n",
       "      <td>1</td>\n",
       "      <td>3</td>\n",
       "      <td>2</td>\n",
       "      <td>26.0</td>\n",
       "      <td>-1.0</td>\n",
       "      <td>-1.0</td>\n",
       "      <td>-1.0</td>\n",
       "      <td>-2.0</td>\n",
       "      <td>-2.0</td>\n",
       "      <td>...</td>\n",
       "      <td>0.0</td>\n",
       "      <td>0.0</td>\n",
       "      <td>0.0</td>\n",
       "      <td>1560.0</td>\n",
       "      <td>0.0</td>\n",
       "      <td>0.0</td>\n",
       "      <td>0.0</td>\n",
       "      <td>0.0</td>\n",
       "      <td>0.0</td>\n",
       "      <td>0</td>\n",
       "    </tr>\n",
       "    <tr>\n",
       "      <th>2960</th>\n",
       "      <td>80000.0</td>\n",
       "      <td>2</td>\n",
       "      <td>3</td>\n",
       "      <td>2</td>\n",
       "      <td>28.0</td>\n",
       "      <td>-1.0</td>\n",
       "      <td>-1.0</td>\n",
       "      <td>-1.0</td>\n",
       "      <td>-2.0</td>\n",
       "      <td>-2.0</td>\n",
       "      <td>...</td>\n",
       "      <td>0.0</td>\n",
       "      <td>0.0</td>\n",
       "      <td>0.0</td>\n",
       "      <td>2800.0</td>\n",
       "      <td>0.0</td>\n",
       "      <td>0.0</td>\n",
       "      <td>0.0</td>\n",
       "      <td>0.0</td>\n",
       "      <td>0.0</td>\n",
       "      <td>0</td>\n",
       "    </tr>\n",
       "    <tr>\n",
       "      <th>2961</th>\n",
       "      <td>50000.0</td>\n",
       "      <td>2</td>\n",
       "      <td>3</td>\n",
       "      <td>1</td>\n",
       "      <td>51.0</td>\n",
       "      <td>-1.0</td>\n",
       "      <td>-1.0</td>\n",
       "      <td>-1.0</td>\n",
       "      <td>-1.0</td>\n",
       "      <td>-2.0</td>\n",
       "      <td>...</td>\n",
       "      <td>0.0</td>\n",
       "      <td>0.0</td>\n",
       "      <td>0.0</td>\n",
       "      <td>300.0</td>\n",
       "      <td>5880.0</td>\n",
       "      <td>0.0</td>\n",
       "      <td>0.0</td>\n",
       "      <td>0.0</td>\n",
       "      <td>0.0</td>\n",
       "      <td>1</td>\n",
       "    </tr>\n",
       "    <tr>\n",
       "      <th>2962</th>\n",
       "      <td>450000.0</td>\n",
       "      <td>2</td>\n",
       "      <td>2</td>\n",
       "      <td>1</td>\n",
       "      <td>38.0</td>\n",
       "      <td>-2.0</td>\n",
       "      <td>-2.0</td>\n",
       "      <td>-2.0</td>\n",
       "      <td>-2.0</td>\n",
       "      <td>-2.0</td>\n",
       "      <td>...</td>\n",
       "      <td>390.0</td>\n",
       "      <td>390.0</td>\n",
       "      <td>390.0</td>\n",
       "      <td>390.0</td>\n",
       "      <td>780.0</td>\n",
       "      <td>390.0</td>\n",
       "      <td>390.0</td>\n",
       "      <td>390.0</td>\n",
       "      <td>390.0</td>\n",
       "      <td>1</td>\n",
       "    </tr>\n",
       "    <tr>\n",
       "      <th>2963</th>\n",
       "      <td>50000.0</td>\n",
       "      <td>2</td>\n",
       "      <td>2</td>\n",
       "      <td>1</td>\n",
       "      <td>44.0</td>\n",
       "      <td>-2.0</td>\n",
       "      <td>-2.0</td>\n",
       "      <td>-2.0</td>\n",
       "      <td>-2.0</td>\n",
       "      <td>-2.0</td>\n",
       "      <td>...</td>\n",
       "      <td>390.0</td>\n",
       "      <td>390.0</td>\n",
       "      <td>0.0</td>\n",
       "      <td>390.0</td>\n",
       "      <td>390.0</td>\n",
       "      <td>390.0</td>\n",
       "      <td>390.0</td>\n",
       "      <td>0.0</td>\n",
       "      <td>780.0</td>\n",
       "      <td>0</td>\n",
       "    </tr>\n",
       "    <tr>\n",
       "      <th>2964</th>\n",
       "      <td>290000.0</td>\n",
       "      <td>2</td>\n",
       "      <td>2</td>\n",
       "      <td>1</td>\n",
       "      <td>39.0</td>\n",
       "      <td>1.0</td>\n",
       "      <td>-2.0</td>\n",
       "      <td>-2.0</td>\n",
       "      <td>-2.0</td>\n",
       "      <td>-2.0</td>\n",
       "      <td>...</td>\n",
       "      <td>3184.0</td>\n",
       "      <td>390.0</td>\n",
       "      <td>390.0</td>\n",
       "      <td>10000.0</td>\n",
       "      <td>800.0</td>\n",
       "      <td>3184.0</td>\n",
       "      <td>390.0</td>\n",
       "      <td>390.0</td>\n",
       "      <td>6617.0</td>\n",
       "      <td>0</td>\n",
       "    </tr>\n",
       "  </tbody>\n",
       "</table>\n",
       "<p>10 rows × 24 columns</p>\n",
       "</div>"
      ],
      "text/plain": [
       "      limit_balance  sex  education_level  marital_status   age  pay_0  pay_2  \\\n",
       "2955       360000.0    2                2               2  26.0   -1.0   -1.0   \n",
       "2956       100000.0    1                3               1  40.0    0.0    0.0   \n",
       "2957        30000.0    2                3               1  48.0    1.0   -1.0   \n",
       "2958        80000.0    2                3               1  39.0   -1.0   -1.0   \n",
       "2959        20000.0    1                3               2  26.0   -1.0   -1.0   \n",
       "2960        80000.0    2                3               2  28.0   -1.0   -1.0   \n",
       "2961        50000.0    2                3               1  51.0   -1.0   -1.0   \n",
       "2962       450000.0    2                2               1  38.0   -2.0   -2.0   \n",
       "2963        50000.0    2                2               1  44.0   -2.0   -2.0   \n",
       "2964       290000.0    2                2               1  39.0    1.0   -2.0   \n",
       "\n",
       "      pay_3  pay_4  pay_5  ...  bill_amt_4  bill_amt_5  bill_amt_6  pay_amt_1  \\\n",
       "2955   -1.0   -1.0   -2.0  ...         0.0         0.0         0.0      463.0   \n",
       "2956   -1.0   -1.0   -2.0  ...         0.0         0.0         0.0     2000.0   \n",
       "2957   -1.0   -2.0   -2.0  ...         0.0         0.0         0.0      200.0   \n",
       "2958   -1.0   -1.0   -2.0  ...         0.0         0.0      5000.0     5000.0   \n",
       "2959   -1.0   -2.0   -2.0  ...         0.0         0.0         0.0     1560.0   \n",
       "2960   -1.0   -2.0   -2.0  ...         0.0         0.0         0.0     2800.0   \n",
       "2961   -1.0   -1.0   -2.0  ...         0.0         0.0         0.0      300.0   \n",
       "2962   -2.0   -2.0   -2.0  ...       390.0       390.0       390.0      390.0   \n",
       "2963   -2.0   -2.0   -2.0  ...       390.0       390.0         0.0      390.0   \n",
       "2964   -2.0   -2.0   -2.0  ...      3184.0       390.0       390.0    10000.0   \n",
       "\n",
       "      pay_amt_2  pay_amt_3  pay_amt_4  pay_amt_5  pay_amt_6  \\\n",
       "2955     2500.0        0.0        0.0        0.0        0.0   \n",
       "2956     2377.0    40000.0        0.0        0.0        0.0   \n",
       "2957        0.0        0.0        0.0        0.0        0.0   \n",
       "2958     5000.0        0.0     5000.0     5000.0      470.0   \n",
       "2959        0.0        0.0        0.0        0.0        0.0   \n",
       "2960        0.0        0.0        0.0        0.0        0.0   \n",
       "2961     5880.0        0.0        0.0        0.0        0.0   \n",
       "2962      780.0      390.0      390.0      390.0      390.0   \n",
       "2963      390.0      390.0      390.0        0.0      780.0   \n",
       "2964      800.0     3184.0      390.0      390.0     6617.0   \n",
       "\n",
       "      default_payment_next_month  \n",
       "2955                           0  \n",
       "2956                           0  \n",
       "2957                           0  \n",
       "2958                           0  \n",
       "2959                           0  \n",
       "2960                           0  \n",
       "2961                           1  \n",
       "2962                           1  \n",
       "2963                           0  \n",
       "2964                           0  \n",
       "\n",
       "[10 rows x 24 columns]"
      ]
     },
     "execution_count": 4,
     "metadata": {},
     "output_type": "execute_result"
    }
   ],
   "source": [
    "#displays the bottom 10 data\n",
    "df.tail(10)"
   ]
  },
  {
   "cell_type": "markdown",
   "metadata": {},
   "source": [
    "# v. Exploratory Data Analysis (EDA)"
   ]
  },
  {
   "cell_type": "markdown",
   "metadata": {},
   "source": [
    "## Data Info"
   ]
  },
  {
   "cell_type": "code",
   "execution_count": 5,
   "metadata": {},
   "outputs": [
    {
     "name": "stdout",
     "output_type": "stream",
     "text": [
      "<class 'pandas.core.frame.DataFrame'>\n",
      "RangeIndex: 2965 entries, 0 to 2964\n",
      "Data columns (total 24 columns):\n",
      " #   Column                      Non-Null Count  Dtype  \n",
      "---  ------                      --------------  -----  \n",
      " 0   limit_balance               2965 non-null   float64\n",
      " 1   sex                         2965 non-null   int64  \n",
      " 2   education_level             2965 non-null   int64  \n",
      " 3   marital_status              2965 non-null   int64  \n",
      " 4   age                         2965 non-null   float64\n",
      " 5   pay_0                       2965 non-null   float64\n",
      " 6   pay_2                       2965 non-null   float64\n",
      " 7   pay_3                       2965 non-null   float64\n",
      " 8   pay_4                       2965 non-null   float64\n",
      " 9   pay_5                       2965 non-null   float64\n",
      " 10  pay_6                       2965 non-null   float64\n",
      " 11  bill_amt_1                  2965 non-null   float64\n",
      " 12  bill_amt_2                  2965 non-null   float64\n",
      " 13  bill_amt_3                  2965 non-null   float64\n",
      " 14  bill_amt_4                  2965 non-null   float64\n",
      " 15  bill_amt_5                  2965 non-null   float64\n",
      " 16  bill_amt_6                  2965 non-null   float64\n",
      " 17  pay_amt_1                   2965 non-null   float64\n",
      " 18  pay_amt_2                   2965 non-null   float64\n",
      " 19  pay_amt_3                   2965 non-null   float64\n",
      " 20  pay_amt_4                   2965 non-null   float64\n",
      " 21  pay_amt_5                   2965 non-null   float64\n",
      " 22  pay_amt_6                   2965 non-null   float64\n",
      " 23  default_payment_next_month  2965 non-null   int64  \n",
      "dtypes: float64(20), int64(4)\n",
      "memory usage: 556.1 KB\n"
     ]
    }
   ],
   "source": [
    "#display column details\n",
    "df.info()"
   ]
  },
  {
   "cell_type": "code",
   "execution_count": 6,
   "metadata": {},
   "outputs": [
    {
     "data": {
      "text/plain": [
       "limit_balance                 0\n",
       "sex                           0\n",
       "education_level               0\n",
       "marital_status                0\n",
       "age                           0\n",
       "pay_0                         0\n",
       "pay_2                         0\n",
       "pay_3                         0\n",
       "pay_4                         0\n",
       "pay_5                         0\n",
       "pay_6                         0\n",
       "bill_amt_1                    0\n",
       "bill_amt_2                    0\n",
       "bill_amt_3                    0\n",
       "bill_amt_4                    0\n",
       "bill_amt_5                    0\n",
       "bill_amt_6                    0\n",
       "pay_amt_1                     0\n",
       "pay_amt_2                     0\n",
       "pay_amt_3                     0\n",
       "pay_amt_4                     0\n",
       "pay_amt_5                     0\n",
       "pay_amt_6                     0\n",
       "default_payment_next_month    0\n",
       "dtype: int64"
      ]
     },
     "execution_count": 6,
     "metadata": {},
     "output_type": "execute_result"
    }
   ],
   "source": [
    "#check whether there are missing data values\n",
    "df.isnull().sum()"
   ]
  },
  {
   "cell_type": "markdown",
   "metadata": {},
   "source": [
    "Here are the details of the 24 columns with descriptions:\n",
    "- limit_balance : amount of credit given to customers (in NT dollars)\n",
    "- sex: gender (1=male, 2=female)\n",
    "- education_level : education level (1=graduate school, 2=university, 3=high school, 4=others, 5=unknown, 6=unknown)\n",
    "- marital_status : marital status (1=married, 2=single, 3=others)\n",
    "- age: age in years\n",
    "- pay_0: payment status in September, 2005\n",
    "  (-1=paid in full,\n",
    "    1 = delay for one month,\n",
    "    2= ​​delay of two months, …\n",
    "    8= delay of eight months,\n",
    "    9 = delay of nine months or more).\n",
    "- pay_2: payment status in August, 2005 (same scale as above)\n",
    "- pay_3: payment status in July, 2005 (same scale as above)\n",
    "- pay_4: payment status in June, 2005 (same scale as above)\n",
    "- pay_5: payment status in May, 2005 (same scale as above)\n",
    "- pay_6: payment status in April, 2005 (same scale as above)\n",
    "- bill_amt1: Monthly billing statement amount in September, 2005 (in NT dollars)\n",
    "- bill_amt2: Monthly billing statement amount in August, 2005 (in NT dollars)\n",
    "- bill_amt3: Monthly billing statement amount in July, 2005 (in NT dollars)\n",
    "- bill_amt4: Monthly billing statement amount in June, 2005 (NT dollars)\n",
    "- bill_amt5: Monthly billing statement amount in May, 2005 (in NT dollars)\n",
    "- bill_amt6: Monthly billing statement amount in April, 2005 (in NT dollars)\n",
    "- pay_amt1: Previous payment amount in September, 2005 (in NT dollars)\n",
    "- pay_amt2: Previous payment amount in August, 2005 (in NT dollars)\n",
    "- pay_amt3: Previous payment amount in July, 2005 (in NT dollars)\n",
    "- pay_amt4: Previous payment amount in June, 2005 (in NT dollars)\n",
    "- pay_amt5: Previous payment amount in May, 2005 (in NT dollars)\n",
    "- pay_amt6: Previous payment amount in April, 2005 (in NT dollars)\n",
    "- default_payment_next_month: Failed payment next month (1=yes, 0=no)"
   ]
  },
  {
   "cell_type": "markdown",
   "metadata": {},
   "source": [
    "## Data Cleaning"
   ]
  },
  {
   "cell_type": "code",
   "execution_count": 7,
   "metadata": {},
   "outputs": [],
   "source": [
    "#rename columns to make them shorter and in order\n",
    "df.rename(columns={'default_payment_next_month':'def_payment'}, inplace=True)\n",
    "df.rename(columns={'pay_0':'pay_1'}, inplace=True)"
   ]
  },
  {
   "cell_type": "code",
   "execution_count": 8,
   "metadata": {},
   "outputs": [
    {
     "data": {
      "text/html": [
       "<div>\n",
       "<style scoped>\n",
       "    .dataframe tbody tr th:only-of-type {\n",
       "        vertical-align: middle;\n",
       "    }\n",
       "\n",
       "    .dataframe tbody tr th {\n",
       "        vertical-align: top;\n",
       "    }\n",
       "\n",
       "    .dataframe thead th {\n",
       "        text-align: right;\n",
       "    }\n",
       "</style>\n",
       "<table border=\"1\" class=\"dataframe\">\n",
       "  <thead>\n",
       "    <tr style=\"text-align: right;\">\n",
       "      <th></th>\n",
       "      <th>limit_balance</th>\n",
       "      <th>sex</th>\n",
       "      <th>education_level</th>\n",
       "      <th>marital_status</th>\n",
       "      <th>age</th>\n",
       "      <th>pay_1</th>\n",
       "      <th>pay_2</th>\n",
       "      <th>pay_3</th>\n",
       "      <th>pay_4</th>\n",
       "      <th>pay_5</th>\n",
       "      <th>...</th>\n",
       "      <th>bill_amt_4</th>\n",
       "      <th>bill_amt_5</th>\n",
       "      <th>bill_amt_6</th>\n",
       "      <th>pay_amt_1</th>\n",
       "      <th>pay_amt_2</th>\n",
       "      <th>pay_amt_3</th>\n",
       "      <th>pay_amt_4</th>\n",
       "      <th>pay_amt_5</th>\n",
       "      <th>pay_amt_6</th>\n",
       "      <th>def_payment</th>\n",
       "    </tr>\n",
       "  </thead>\n",
       "  <tbody>\n",
       "    <tr>\n",
       "      <th>2806</th>\n",
       "      <td>200000.0</td>\n",
       "      <td>2</td>\n",
       "      <td>1</td>\n",
       "      <td>1</td>\n",
       "      <td>34.0</td>\n",
       "      <td>1.0</td>\n",
       "      <td>-2.0</td>\n",
       "      <td>-2.0</td>\n",
       "      <td>-2.0</td>\n",
       "      <td>-2.0</td>\n",
       "      <td>...</td>\n",
       "      <td>0.0</td>\n",
       "      <td>0.0</td>\n",
       "      <td>0.0</td>\n",
       "      <td>0.0</td>\n",
       "      <td>0.0</td>\n",
       "      <td>0.0</td>\n",
       "      <td>0.0</td>\n",
       "      <td>0.0</td>\n",
       "      <td>0.0</td>\n",
       "      <td>0</td>\n",
       "    </tr>\n",
       "    <tr>\n",
       "      <th>2815</th>\n",
       "      <td>200000.0</td>\n",
       "      <td>2</td>\n",
       "      <td>1</td>\n",
       "      <td>1</td>\n",
       "      <td>34.0</td>\n",
       "      <td>1.0</td>\n",
       "      <td>-2.0</td>\n",
       "      <td>-2.0</td>\n",
       "      <td>-2.0</td>\n",
       "      <td>-2.0</td>\n",
       "      <td>...</td>\n",
       "      <td>0.0</td>\n",
       "      <td>0.0</td>\n",
       "      <td>0.0</td>\n",
       "      <td>0.0</td>\n",
       "      <td>0.0</td>\n",
       "      <td>0.0</td>\n",
       "      <td>0.0</td>\n",
       "      <td>0.0</td>\n",
       "      <td>0.0</td>\n",
       "      <td>0</td>\n",
       "    </tr>\n",
       "  </tbody>\n",
       "</table>\n",
       "<p>2 rows × 24 columns</p>\n",
       "</div>"
      ],
      "text/plain": [
       "      limit_balance  sex  education_level  marital_status   age  pay_1  pay_2  \\\n",
       "2806       200000.0    2                1               1  34.0    1.0   -2.0   \n",
       "2815       200000.0    2                1               1  34.0    1.0   -2.0   \n",
       "\n",
       "      pay_3  pay_4  pay_5  ...  bill_amt_4  bill_amt_5  bill_amt_6  pay_amt_1  \\\n",
       "2806   -2.0   -2.0   -2.0  ...         0.0         0.0         0.0        0.0   \n",
       "2815   -2.0   -2.0   -2.0  ...         0.0         0.0         0.0        0.0   \n",
       "\n",
       "      pay_amt_2  pay_amt_3  pay_amt_4  pay_amt_5  pay_amt_6  def_payment  \n",
       "2806        0.0        0.0        0.0        0.0        0.0            0  \n",
       "2815        0.0        0.0        0.0        0.0        0.0            0  \n",
       "\n",
       "[2 rows x 24 columns]"
      ]
     },
     "execution_count": 8,
     "metadata": {},
     "output_type": "execute_result"
    }
   ],
   "source": [
    "#check data duplication\n",
    "df[df.duplicated(keep=False)]"
   ]
  },
  {
   "cell_type": "code",
   "execution_count": 9,
   "metadata": {},
   "outputs": [],
   "source": [
    "#remove double index\n",
    "index_to_remove = 2806\n",
    "df1 = df.drop(index_to_remove)"
   ]
  },
  {
   "cell_type": "markdown",
   "metadata": {},
   "source": [
    "## Business Knowledge"
   ]
  },
  {
   "cell_type": "code",
   "execution_count": 10,
   "metadata": {},
   "outputs": [
    {
     "name": "stderr",
     "output_type": "stream",
     "text": [
      "c:\\Users\\kenne\\AppData\\Local\\Programs\\Python\\Python311\\Lib\\site-packages\\seaborn\\_oldcore.py:1498: FutureWarning: is_categorical_dtype is deprecated and will be removed in a future version. Use isinstance(dtype, CategoricalDtype) instead\n",
      "  if pd.api.types.is_categorical_dtype(vector):\n",
      "c:\\Users\\kenne\\AppData\\Local\\Programs\\Python\\Python311\\Lib\\site-packages\\seaborn\\_oldcore.py:1498: FutureWarning: is_categorical_dtype is deprecated and will be removed in a future version. Use isinstance(dtype, CategoricalDtype) instead\n",
      "  if pd.api.types.is_categorical_dtype(vector):\n",
      "c:\\Users\\kenne\\AppData\\Local\\Programs\\Python\\Python311\\Lib\\site-packages\\seaborn\\_oldcore.py:1498: FutureWarning: is_categorical_dtype is deprecated and will be removed in a future version. Use isinstance(dtype, CategoricalDtype) instead\n",
      "  if pd.api.types.is_categorical_dtype(vector):\n"
     ]
    },
    {
     "data": {
      "image/png": "[encoded data removed]",
      "text/plain": [
       "<Figure size 640x480 with 1 Axes>"
      ]
     },
     "metadata": {},
     "output_type": "display_data"
    }
   ],
   "source": [
    "#make a barplot showing the percentage of people who can pay or not\n",
    "count_data = df1['def_payment'].value_counts()\n",
    "\n",
    "total_data = len(df1)\n",
    "\n",
    "percentage_data = (count_data / total_data) * 100\n",
    "\n",
    "sns.barplot(x=percentage_data.index, y=percentage_data.values)\n",
    "\n",
    "plt.title('Def Payment Percentage Presentation')\n",
    "plt.xlabel('def_payment')\n",
    "plt.ylabel('Persentase (%)')\n",
    "\n",
    "for i in range(len(percentage_data)):\n",
    "    plt.text(i, percentage_data[i], f'{percentage_data[i]:.2f}%', ha='center', va='bottom')\n",
    "plt.xticks([0, 1],\n",
    "           ['Can Pay', 'Cannot Pay'])\n",
    "plt.show()\n"
   ]
  },
  {
   "cell_type": "markdown",
   "metadata": {},
   "source": [
    "Results: \n",
    "We can see that 78.58% can pay and 21.42% cannot pay"
   ]
  },
  {
   "cell_type": "code",
   "execution_count": 11,
   "metadata": {},
   "outputs": [
    {
     "name": "stderr",
     "output_type": "stream",
     "text": [
      "c:\\Users\\kenne\\AppData\\Local\\Programs\\Python\\Python311\\Lib\\site-packages\\seaborn\\_oldcore.py:1498: FutureWarning: is_categorical_dtype is deprecated and will be removed in a future version. Use isinstance(dtype, CategoricalDtype) instead\n",
      "  if pd.api.types.is_categorical_dtype(vector):\n",
      "c:\\Users\\kenne\\AppData\\Local\\Programs\\Python\\Python311\\Lib\\site-packages\\seaborn\\_oldcore.py:1498: FutureWarning: is_categorical_dtype is deprecated and will be removed in a future version. Use isinstance(dtype, CategoricalDtype) instead\n",
      "  if pd.api.types.is_categorical_dtype(vector):\n",
      "c:\\Users\\kenne\\AppData\\Local\\Programs\\Python\\Python311\\Lib\\site-packages\\seaborn\\_oldcore.py:1498: FutureWarning: is_categorical_dtype is deprecated and will be removed in a future version. Use isinstance(dtype, CategoricalDtype) instead\n",
      "  if pd.api.types.is_categorical_dtype(vector):\n",
      "c:\\Users\\kenne\\AppData\\Local\\Programs\\Python\\Python311\\Lib\\site-packages\\seaborn\\_oldcore.py:1498: FutureWarning: is_categorical_dtype is deprecated and will be removed in a future version. Use isinstance(dtype, CategoricalDtype) instead\n",
      "  if pd.api.types.is_categorical_dtype(vector):\n"
     ]
    },
    {
     "data": {
      "image/png": "[encoded data removed]",
      "text/plain": [
       "<Figure size 1000x600 with 1 Axes>"
      ]
     },
     "metadata": {},
     "output_type": "display_data"
    }
   ],
   "source": [
    "# Data visualization of 'sex' column based on 'default_payment_next_month'\n",
    "#create dummy data for this visualization and change sex dan def_payment to string\n",
    "df3=df1.copy()\n",
    "df3['sex'] = df1['sex'].astype(str)\n",
    "df3['def_payment'] = df1['def_payment'].astype(str)\n",
    "\n",
    "\n",
    "plt.figure(figsize=(10, 6))\n",
    "sns.countplot(x='sex', hue='def_payment', data=df3)\n",
    "\n",
    "# Enhancing the plot\n",
    "plt.title('Default Payment Next Month by Sex')\n",
    "plt.xlabel('Sex (1 = Male, 2 = Female)')\n",
    "plt.ylabel('Count')\n",
    "plt.legend(title='Default Payment Next Month', labels=['No', 'Yes'])\n",
    "plt.grid(axis='y')\n",
    "\n",
    "# Display the plot\n",
    "plt.show()"
   ]
  },
  {
   "cell_type": "markdown",
   "metadata": {},
   "source": [
    "Result:\n",
    "It can be seen that the majority of users are women. It can be said that the users are housewives and career women compared to men who are fewer in number."
   ]
  },
  {
   "cell_type": "code",
   "execution_count": 12,
   "metadata": {},
   "outputs": [
    {
     "name": "stderr",
     "output_type": "stream",
     "text": [
      "c:\\Users\\kenne\\AppData\\Local\\Programs\\Python\\Python311\\Lib\\site-packages\\seaborn\\_oldcore.py:1498: FutureWarning: is_categorical_dtype is deprecated and will be removed in a future version. Use isinstance(dtype, CategoricalDtype) instead\n",
      "  if pd.api.types.is_categorical_dtype(vector):\n",
      "c:\\Users\\kenne\\AppData\\Local\\Programs\\Python\\Python311\\Lib\\site-packages\\seaborn\\_oldcore.py:1119: FutureWarning: use_inf_as_na option is deprecated and will be removed in a future version. Convert inf values to NaN before operating instead.\n",
      "  with pd.option_context('mode.use_inf_as_na', True):\n"
     ]
    },
    {
     "data": {
      "image/png": "[encoded data removed]",
      "text/plain": [
       "<Figure size 640x480 with 1 Axes>"
      ]
     },
     "metadata": {},
     "output_type": "display_data"
    }
   ],
   "source": [
    "#create histogram for distribution age\n",
    "plt.subplot(1, 2, 2)\n",
    "sns.histplot(df1['age'], kde=True)\n",
    "plt.title('Distribution of Age')\n",
    "\n",
    "plt.show()"
   ]
  },
  {
   "cell_type": "markdown",
   "metadata": {},
   "source": [
    "Results: It can be seen that the age distribution is from 20 to 50\n",
    "Insight : To increase the number of users who can pay, it's a good idea to bill on payday around 25-31 during payday because on that date they have a lot of money so they can pay."
   ]
  },
  {
   "cell_type": "code",
   "execution_count": 13,
   "metadata": {},
   "outputs": [],
   "source": [
    "#shorten cardinality\n",
    "df1['education_level'] = df1['education_level'].apply(lambda x: 4 if x in [0, 5, 6] else x)"
   ]
  },
  {
   "cell_type": "code",
   "execution_count": 14,
   "metadata": {},
   "outputs": [
    {
     "name": "stderr",
     "output_type": "stream",
     "text": [
      "c:\\Users\\kenne\\AppData\\Local\\Programs\\Python\\Python311\\Lib\\site-packages\\seaborn\\_oldcore.py:1498: FutureWarning: is_categorical_dtype is deprecated and will be removed in a future version. Use isinstance(dtype, CategoricalDtype) instead\n",
      "  if pd.api.types.is_categorical_dtype(vector):\n",
      "c:\\Users\\kenne\\AppData\\Local\\Programs\\Python\\Python311\\Lib\\site-packages\\seaborn\\_oldcore.py:1498: FutureWarning: is_categorical_dtype is deprecated and will be removed in a future version. Use isinstance(dtype, CategoricalDtype) instead\n",
      "  if pd.api.types.is_categorical_dtype(vector):\n",
      "c:\\Users\\kenne\\AppData\\Local\\Programs\\Python\\Python311\\Lib\\site-packages\\seaborn\\_oldcore.py:1498: FutureWarning: is_categorical_dtype is deprecated and will be removed in a future version. Use isinstance(dtype, CategoricalDtype) instead\n",
      "  if pd.api.types.is_categorical_dtype(vector):\n"
     ]
    },
    {
     "data": {
      "image/png": "[encoded data removed]",
      "text/plain": [
       "<Figure size 640x480 with 1 Axes>"
      ]
     },
     "metadata": {},
     "output_type": "display_data"
    }
   ],
   "source": [
    "#display educational level plot\n",
    "sns.countplot(x='education_level', data=df1)\n",
    "plt.title('Education Level Distribution')\n",
    "plt.xlabel('Education Level')\n",
    "plt.ylabel('Amount')\n",
    "plt.show()"
   ]
  },
  {
   "cell_type": "markdown",
   "metadata": {},
   "source": [
    "Notes: 1 Graduate, 2 University, 3 High School, 4 Others\n",
    "Results: It can be seen from this that the majority of users are graduates and universities. Maybe in the future a threshold can be selected or given for users who can use this facility because users with high school level education, others may not have income or their income is small so it will be more likely for them to fail to pay. When we set a threshold for users with a large or fixed income, we can reduce the percentage of defaults."
   ]
  },
  {
   "cell_type": "markdown",
   "metadata": {},
   "source": [
    "## Cek Kolerasi"
   ]
  },
  {
   "cell_type": "code",
   "execution_count": 15,
   "metadata": {},
   "outputs": [
    {
     "data": {
      "image/png": "[encoded data removed]",
      "text/plain": [
       "<Figure size 1000x600 with 2 Axes>"
      ]
     },
     "metadata": {},
     "output_type": "display_data"
    }
   ],
   "source": [
    "#Calculate the correlation of def_payment with 'pay_1', 'pay_2', 'pay_3', 'pay_4','pay_5','pay_6'\n",
    "#I used Kendall because after checking again that the data was categorical\n",
    "billcol = df1[['pay_1', 'pay_2', 'pay_3', 'pay_4','pay_5','pay_6','def_payment']]\n",
    "\n",
    "kendall_corr_matrix = billcol.corr(method=lambda x, y: kendalltau(x, y).correlation)\n",
    "\n",
    "plt.figure(figsize=(10, 6))\n",
    "sns.heatmap(kendall_corr_matrix, annot=True, cmap='coolwarm', center=0)\n",
    "plt.title('Kendall tau Correlation Heatmap Default Payment Method with Bill Payment')\n",
    "plt.show()"
   ]
  },
  {
   "cell_type": "markdown",
   "metadata": {},
   "source": [
    "Results: From the heatmap it can be seen that 'pay_1', 'pay_2', 'pay_3', 'pay_4','pay_5','pay_6' have a correlation with the def_payment column so that these columns will be included in the feature selection"
   ]
  },
  {
   "cell_type": "code",
   "execution_count": 16,
   "metadata": {},
   "outputs": [
    {
     "data": {
      "image/png": "[encoded data removed]",
      "text/plain": [
       "<Figure size 1000x600 with 2 Axes>"
      ]
     },
     "metadata": {},
     "output_type": "display_data"
    }
   ],
   "source": [
    "#Calculate def_payment correlation with 'bill_amt_1', 'bill_amt_2', 'bill_amt_3', 'bill_amt_4','bill_amt_5','bill_amt_6'\n",
    "repaymentcol = df1[['bill_amt_1', 'bill_amt_2', 'bill_amt_3', 'bill_amt_4','bill_amt_5','bill_amt_6','def_payment']]\n",
    "\n",
    "plt.figure(figsize=(10, 6))\n",
    "sns.heatmap(repaymentcol.corr(), annot=True, cmap='coolwarm', center=0)\n",
    "plt.title('Correlation Heatmap Default Payment Method with Bill Payment')\n",
    "plt.show()"
   ]
  },
  {
   "cell_type": "markdown",
   "metadata": {},
   "source": [
    "Results: From the heatmap it can be seen that there are no columns that have a correlation with the def_payment column so these columns will not be included in the feature selection"
   ]
  },
  {
   "cell_type": "code",
   "execution_count": 17,
   "metadata": {},
   "outputs": [
    {
     "data": {
      "image/png": "[encoded data removed]",
      "text/plain": [
       "<Figure size 1000x600 with 2 Axes>"
      ]
     },
     "metadata": {},
     "output_type": "display_data"
    }
   ],
   "source": [
    "#Calculate def_payment correlation with 'pay_amt_1', 'pay_amt_2', 'pay_amt_3', 'pay_amt_4','pay_amt_5','pay_amt_5','limit_balance'\n",
    "pay_amt_corr = df1[['pay_amt_1', 'pay_amt_2', 'pay_amt_3', 'pay_amt_4','pay_amt_5','pay_amt_5','limit_balance','def_payment']]\n",
    "\n",
    "plt.figure(figsize=(10, 6))\n",
    "sns.heatmap(pay_amt_corr.corr(), annot=True, cmap='coolwarm', center=0)\n",
    "plt.title('Correlation Heatmap Default Payment Method with Bill Payment')\n",
    "plt.show()"
   ]
  },
  {
   "cell_type": "markdown",
   "metadata": {},
   "source": [
    "Results: From the heatmap it can be seen that 'limit_balance' has a correlation with the def_payment column so that these columns will be included in the feature selection"
   ]
  },
  {
   "cell_type": "code",
   "execution_count": 18,
   "metadata": {},
   "outputs": [
    {
     "data": {
      "image/png": "[encoded data removed]",
      "text/plain": [
       "<Figure size 1000x600 with 2 Axes>"
      ]
     },
     "metadata": {},
     "output_type": "display_data"
    }
   ],
   "source": [
    "#Calculate def_payment correlation with 'sex', 'education_level', 'marital_status', 'age'\n",
    "#I used Kendall because after checking again that the data was categorical\n",
    "status_corr = df1[['sex', 'education_level', 'marital_status', 'age', 'def_payment']]\n",
    "\n",
    "kendall_corr_matrix = status_corr.corr(method=lambda x, y: kendalltau(x, y).correlation)\n",
    "\n",
    "plt.figure(figsize=(10, 6))\n",
    "sns.heatmap(kendall_corr_matrix, annot=True, cmap='coolwarm', center=0)\n",
    "plt.title('Kendall tau Correlation Heatmap Default Payment Method with Bill Payment')\n",
    "plt.show()"
   ]
  },
  {
   "cell_type": "markdown",
   "metadata": {},
   "source": [
    "Results: From the heatmap it can be seen that there are no columns that have a correlation with the def_payment column so these columns will not be included in the feature selection"
   ]
  },
  {
   "cell_type": "markdown",
   "metadata": {},
   "source": [
    "### Feature Selection"
   ]
  },
  {
   "cell_type": "code",
   "execution_count": 19,
   "metadata": {},
   "outputs": [],
   "source": [
    "#create a new variable as a feature selection\n",
    "df_fix = df1[['limit_balance','pay_1', 'pay_2', 'pay_3', 'pay_4','pay_5','pay_6','def_payment']]"
   ]
  },
  {
   "cell_type": "code",
   "execution_count": 20,
   "metadata": {},
   "outputs": [
    {
     "data": {
      "text/html": [
       "<div>\n",
       "<style scoped>\n",
       "    .dataframe tbody tr th:only-of-type {\n",
       "        vertical-align: middle;\n",
       "    }\n",
       "\n",
       "    .dataframe tbody tr th {\n",
       "        vertical-align: top;\n",
       "    }\n",
       "\n",
       "    .dataframe thead th {\n",
       "        text-align: right;\n",
       "    }\n",
       "</style>\n",
       "<table border=\"1\" class=\"dataframe\">\n",
       "  <thead>\n",
       "    <tr style=\"text-align: right;\">\n",
       "      <th></th>\n",
       "      <th>limit_balance</th>\n",
       "      <th>pay_1</th>\n",
       "      <th>pay_2</th>\n",
       "      <th>pay_3</th>\n",
       "      <th>pay_4</th>\n",
       "      <th>pay_5</th>\n",
       "      <th>pay_6</th>\n",
       "      <th>def_payment</th>\n",
       "    </tr>\n",
       "  </thead>\n",
       "  <tbody>\n",
       "    <tr>\n",
       "      <th>0</th>\n",
       "      <td>80000.0</td>\n",
       "      <td>0.0</td>\n",
       "      <td>0.0</td>\n",
       "      <td>0.0</td>\n",
       "      <td>0.0</td>\n",
       "      <td>0.0</td>\n",
       "      <td>0.0</td>\n",
       "      <td>1</td>\n",
       "    </tr>\n",
       "    <tr>\n",
       "      <th>1</th>\n",
       "      <td>200000.0</td>\n",
       "      <td>0.0</td>\n",
       "      <td>0.0</td>\n",
       "      <td>0.0</td>\n",
       "      <td>0.0</td>\n",
       "      <td>0.0</td>\n",
       "      <td>0.0</td>\n",
       "      <td>0</td>\n",
       "    </tr>\n",
       "    <tr>\n",
       "      <th>2</th>\n",
       "      <td>20000.0</td>\n",
       "      <td>0.0</td>\n",
       "      <td>0.0</td>\n",
       "      <td>0.0</td>\n",
       "      <td>0.0</td>\n",
       "      <td>0.0</td>\n",
       "      <td>0.0</td>\n",
       "      <td>1</td>\n",
       "    </tr>\n",
       "    <tr>\n",
       "      <th>3</th>\n",
       "      <td>260000.0</td>\n",
       "      <td>0.0</td>\n",
       "      <td>0.0</td>\n",
       "      <td>0.0</td>\n",
       "      <td>0.0</td>\n",
       "      <td>0.0</td>\n",
       "      <td>0.0</td>\n",
       "      <td>0</td>\n",
       "    </tr>\n",
       "    <tr>\n",
       "      <th>4</th>\n",
       "      <td>150000.0</td>\n",
       "      <td>0.0</td>\n",
       "      <td>0.0</td>\n",
       "      <td>0.0</td>\n",
       "      <td>-1.0</td>\n",
       "      <td>0.0</td>\n",
       "      <td>0.0</td>\n",
       "      <td>0</td>\n",
       "    </tr>\n",
       "    <tr>\n",
       "      <th>...</th>\n",
       "      <td>...</td>\n",
       "      <td>...</td>\n",
       "      <td>...</td>\n",
       "      <td>...</td>\n",
       "      <td>...</td>\n",
       "      <td>...</td>\n",
       "      <td>...</td>\n",
       "      <td>...</td>\n",
       "    </tr>\n",
       "    <tr>\n",
       "      <th>2960</th>\n",
       "      <td>80000.0</td>\n",
       "      <td>-1.0</td>\n",
       "      <td>-1.0</td>\n",
       "      <td>-1.0</td>\n",
       "      <td>-2.0</td>\n",
       "      <td>-2.0</td>\n",
       "      <td>-2.0</td>\n",
       "      <td>0</td>\n",
       "    </tr>\n",
       "    <tr>\n",
       "      <th>2961</th>\n",
       "      <td>50000.0</td>\n",
       "      <td>-1.0</td>\n",
       "      <td>-1.0</td>\n",
       "      <td>-1.0</td>\n",
       "      <td>-1.0</td>\n",
       "      <td>-2.0</td>\n",
       "      <td>-2.0</td>\n",
       "      <td>1</td>\n",
       "    </tr>\n",
       "    <tr>\n",
       "      <th>2962</th>\n",
       "      <td>450000.0</td>\n",
       "      <td>-2.0</td>\n",
       "      <td>-2.0</td>\n",
       "      <td>-2.0</td>\n",
       "      <td>-2.0</td>\n",
       "      <td>-2.0</td>\n",
       "      <td>-2.0</td>\n",
       "      <td>1</td>\n",
       "    </tr>\n",
       "    <tr>\n",
       "      <th>2963</th>\n",
       "      <td>50000.0</td>\n",
       "      <td>-2.0</td>\n",
       "      <td>-2.0</td>\n",
       "      <td>-2.0</td>\n",
       "      <td>-2.0</td>\n",
       "      <td>-2.0</td>\n",
       "      <td>-2.0</td>\n",
       "      <td>0</td>\n",
       "    </tr>\n",
       "    <tr>\n",
       "      <th>2964</th>\n",
       "      <td>290000.0</td>\n",
       "      <td>1.0</td>\n",
       "      <td>-2.0</td>\n",
       "      <td>-2.0</td>\n",
       "      <td>-2.0</td>\n",
       "      <td>-2.0</td>\n",
       "      <td>-2.0</td>\n",
       "      <td>0</td>\n",
       "    </tr>\n",
       "  </tbody>\n",
       "</table>\n",
       "<p>2964 rows × 8 columns</p>\n",
       "</div>"
      ],
      "text/plain": [
       "      limit_balance  pay_1  pay_2  pay_3  pay_4  pay_5  pay_6  def_payment\n",
       "0           80000.0    0.0    0.0    0.0    0.0    0.0    0.0            1\n",
       "1          200000.0    0.0    0.0    0.0    0.0    0.0    0.0            0\n",
       "2           20000.0    0.0    0.0    0.0    0.0    0.0    0.0            1\n",
       "3          260000.0    0.0    0.0    0.0    0.0    0.0    0.0            0\n",
       "4          150000.0    0.0    0.0    0.0   -1.0    0.0    0.0            0\n",
       "...             ...    ...    ...    ...    ...    ...    ...          ...\n",
       "2960        80000.0   -1.0   -1.0   -1.0   -2.0   -2.0   -2.0            0\n",
       "2961        50000.0   -1.0   -1.0   -1.0   -1.0   -2.0   -2.0            1\n",
       "2962       450000.0   -2.0   -2.0   -2.0   -2.0   -2.0   -2.0            1\n",
       "2963        50000.0   -2.0   -2.0   -2.0   -2.0   -2.0   -2.0            0\n",
       "2964       290000.0    1.0   -2.0   -2.0   -2.0   -2.0   -2.0            0\n",
       "\n",
       "[2964 rows x 8 columns]"
      ]
     },
     "execution_count": 20,
     "metadata": {},
     "output_type": "execute_result"
    }
   ],
   "source": [
    "#call data that has been in feature selection\n",
    "df_fix"
   ]
  },
  {
   "cell_type": "markdown",
   "metadata": {},
   "source": [
    "## Cardinality"
   ]
  },
  {
   "cell_type": "code",
   "execution_count": 21,
   "metadata": {},
   "outputs": [
    {
     "name": "stdout",
     "output_type": "stream",
     "text": [
      "cardinality kolom pay_1: 11\n",
      "cardinality kolom pay_2: 10\n",
      "cardinality kolom pay_3: 9\n",
      "cardinality kolom pay_4: 10\n",
      "cardinality kolom pay_5: 9\n",
      "cardinality kolom pay_6: 8\n"
     ]
    }
   ],
   "source": [
    "#calculating cardinality\n",
    "cols_cat= df_fix[['pay_1','pay_2','pay_3','pay_4','pay_5','pay_6']]\n",
    "\n",
    "for i in cols_cat.columns:\n",
    "    print(f'cardinality kolom {i}:', cols_cat[i].nunique())"
   ]
  },
  {
   "cell_type": "markdown",
   "metadata": {},
   "source": [
    "Result: After checking that the cardinality in the columns 'pay_1','pay_2','pay_3','pay_4','pay_5','pay_6' is at most 11 and is still within normal limits in my opinion so it doesn't need to be handled"
   ]
  },
  {
   "cell_type": "markdown",
   "metadata": {},
   "source": [
    "# vi. Feature Engineering"
   ]
  },
  {
   "cell_type": "code",
   "execution_count": 22,
   "metadata": {},
   "outputs": [],
   "source": [
    "#divide the data that has been in future selection into x and y with y being the target def_payment column\n",
    "X= df_fix.drop('def_payment', axis=1) #fitur\n",
    "y= df_fix['def_payment'] #target"
   ]
  },
  {
   "cell_type": "code",
   "execution_count": 23,
   "metadata": {},
   "outputs": [
    {
     "name": "stdout",
     "output_type": "stream",
     "text": [
      "Train Size :  (2371, 7)\n",
      "Test Size  :  (593, 7)\n",
      "Train Size :  (2371,)\n",
      "Test Size  :  (593,)\n"
     ]
    }
   ],
   "source": [
    "#split data into X_train, X_test, y_train, y_test\n",
    "X_train, X_test, y_train, y_test = train_test_split(X, y, test_size=0.2, random_state=3,stratify=y)\n",
    "\n",
    "print('Train Size : ', X_train.shape)\n",
    "print('Test Size  : ', X_test.shape)\n",
    "print('Train Size : ', y_train.shape)\n",
    "print('Test Size  : ', y_test.shape)"
   ]
  },
  {
   "cell_type": "markdown",
   "metadata": {},
   "source": [
    "## Handling Outlier"
   ]
  },
  {
   "cell_type": "code",
   "execution_count": 24,
   "metadata": {},
   "outputs": [
    {
     "name": "stdout",
     "output_type": "stream",
     "text": [
      "Skewness dari distance :0.9529337693438512\n"
     ]
    }
   ],
   "source": [
    "#calculate the distribution of data types using the skewness method\n",
    "print(f\"Skewness dari distance :{X_train['limit_balance'].skew()}\")"
   ]
  },
  {
   "cell_type": "code",
   "execution_count": 25,
   "metadata": {},
   "outputs": [],
   "source": [
    "#remove outliers in the limit_balance column in X train with tukey because the x train skewness is close to 1 and the outliers are less than 5%\n",
    "Trimmer_price = OutlierTrimmer(capping_method='iqr',\n",
    "                             tail='both',\n",
    "                             fold=1.5,\n",
    "                             variables=['limit_balance'])\n",
    "\n",
    "X_train_trimmer = Trimmer_price.fit_transform(X_train)"
   ]
  },
  {
   "cell_type": "markdown",
   "metadata": {},
   "source": [
    "## Handling Missing Value"
   ]
  },
  {
   "cell_type": "code",
   "execution_count": 26,
   "metadata": {},
   "outputs": [
    {
     "data": {
      "text/plain": [
       "limit_balance    0\n",
       "pay_1            0\n",
       "pay_2            0\n",
       "pay_3            0\n",
       "pay_4            0\n",
       "pay_5            0\n",
       "pay_6            0\n",
       "dtype: int64"
      ]
     },
     "execution_count": 26,
     "metadata": {},
     "output_type": "execute_result"
    }
   ],
   "source": [
    "#when checked there are no missing values ​​in the x train so it doesn't need to be handle\n",
    "X_train.isnull().sum()"
   ]
  },
  {
   "cell_type": "code",
   "execution_count": 27,
   "metadata": {},
   "outputs": [
    {
     "data": {
      "text/plain": [
       "limit_balance    0\n",
       "pay_1            0\n",
       "pay_2            0\n",
       "pay_3            0\n",
       "pay_4            0\n",
       "pay_5            0\n",
       "pay_6            0\n",
       "dtype: int64"
      ]
     },
     "execution_count": 27,
     "metadata": {},
     "output_type": "execute_result"
    }
   ],
   "source": [
    "#when checked there are no missing values ​​in the x test so it doesn't need to be handle\n",
    "X_test.isnull().sum()"
   ]
  },
  {
   "cell_type": "markdown",
   "metadata": {},
   "source": [
    "## Scaling"
   ]
  },
  {
   "cell_type": "code",
   "execution_count": 28,
   "metadata": {},
   "outputs": [],
   "source": [
    "#scaling using minmax because the data skew is not normal\n",
    "scaler = MinMaxScaler()\n",
    "model = scaler.fit(X_train_trimmer[['limit_balance']])\n",
    "train_scaller = model.transform(X_train_trimmer[['limit_balance']])\n",
    "test_scaller = scaler.transform(X_test[['limit_balance']])"
   ]
  },
  {
   "cell_type": "code",
   "execution_count": 29,
   "metadata": {},
   "outputs": [
    {
     "data": {
      "text/plain": [
       "array([[0.58],\n",
       "       [0.5 ],\n",
       "       [0.56],\n",
       "       ...,\n",
       "       [0.24],\n",
       "       [0.14],\n",
       "       [0.24]])"
      ]
     },
     "execution_count": 29,
     "metadata": {},
     "output_type": "execute_result"
    }
   ],
   "source": [
    "#call the limit balance column in a train that has been scaled\n",
    "train_scaller"
   ]
  },
  {
   "cell_type": "code",
   "execution_count": 30,
   "metadata": {},
   "outputs": [
    {
     "data": {
      "text/plain": [
       "array([[0.12],\n",
       "       [0.08],\n",
       "       [0.4 ],\n",
       "       [0.14],\n",
       "       [0.22],\n",
       "       [0.22],\n",
       "       [0.22],\n",
       "       [0.08],\n",
       "       [0.7 ],\n",
       "       [0.7 ],\n",
       "       [0.68],\n",
       "       [0.08],\n",
       "       [0.08],\n",
       "       [0.46],\n",
       "       [0.54],\n",
       "       [0.08],\n",
       "       [0.02],\n",
       "       [0.24],\n",
       "       [0.56],\n",
       "       [0.16],\n",
       "       [0.08],\n",
       "       [0.18],\n",
       "       [0.08],\n",
       "       [0.38],\n",
       "       [0.54],\n",
       "       [0.24],\n",
       "       [0.08],\n",
       "       [0.26],\n",
       "       [0.8 ],\n",
       "       [0.36],\n",
       "       [0.1 ],\n",
       "       [0.36],\n",
       "       [0.7 ],\n",
       "       [0.5 ],\n",
       "       [0.38],\n",
       "       [0.26],\n",
       "       [0.38],\n",
       "       [0.34],\n",
       "       [0.42],\n",
       "       [0.58],\n",
       "       [0.08],\n",
       "       [0.04],\n",
       "       [0.06],\n",
       "       [0.66],\n",
       "       [0.08],\n",
       "       [1.54],\n",
       "       [0.7 ],\n",
       "       [0.04],\n",
       "       [0.38],\n",
       "       [0.54],\n",
       "       [0.32],\n",
       "       [0.46],\n",
       "       [0.28],\n",
       "       [0.46],\n",
       "       [0.08],\n",
       "       [0.4 ],\n",
       "       [0.12],\n",
       "       [0.4 ],\n",
       "       [0.14],\n",
       "       [0.48],\n",
       "       [0.5 ],\n",
       "       [0.42],\n",
       "       [0.08],\n",
       "       [0.6 ],\n",
       "       [0.58],\n",
       "       [0.42],\n",
       "       [0.28],\n",
       "       [0.08],\n",
       "       [0.22],\n",
       "       [0.58],\n",
       "       [0.08],\n",
       "       [0.08],\n",
       "       [0.58],\n",
       "       [0.7 ],\n",
       "       [0.04],\n",
       "       [0.02],\n",
       "       [0.02],\n",
       "       [0.98],\n",
       "       [0.74],\n",
       "       [0.22],\n",
       "       [0.4 ],\n",
       "       [0.1 ],\n",
       "       [0.08],\n",
       "       [0.62],\n",
       "       [0.94],\n",
       "       [0.32],\n",
       "       [0.86],\n",
       "       [0.16],\n",
       "       [0.04],\n",
       "       [0.08],\n",
       "       [0.3 ],\n",
       "       [0.38],\n",
       "       [0.68],\n",
       "       [0.6 ],\n",
       "       [0.14],\n",
       "       [1.58],\n",
       "       [0.14],\n",
       "       [0.08],\n",
       "       [0.38],\n",
       "       [0.98],\n",
       "       [0.28],\n",
       "       [0.26],\n",
       "       [0.46],\n",
       "       [0.26],\n",
       "       [0.42],\n",
       "       [0.26],\n",
       "       [0.02],\n",
       "       [0.14],\n",
       "       [0.34],\n",
       "       [0.24],\n",
       "       [0.12],\n",
       "       [0.44],\n",
       "       [0.08],\n",
       "       [0.6 ],\n",
       "       [0.08],\n",
       "       [0.24],\n",
       "       [0.02],\n",
       "       [0.58],\n",
       "       [0.54],\n",
       "       [0.26],\n",
       "       [0.64],\n",
       "       [0.4 ],\n",
       "       [0.22],\n",
       "       [0.18],\n",
       "       [0.04],\n",
       "       [0.02],\n",
       "       [0.58],\n",
       "       [0.72],\n",
       "       [0.04],\n",
       "       [0.38],\n",
       "       [0.02],\n",
       "       [0.5 ],\n",
       "       [0.76],\n",
       "       [0.02],\n",
       "       [0.32],\n",
       "       [0.  ],\n",
       "       [0.08],\n",
       "       [0.68],\n",
       "       [0.34],\n",
       "       [0.28],\n",
       "       [0.26],\n",
       "       [0.18],\n",
       "       [0.08],\n",
       "       [0.02],\n",
       "       [0.5 ],\n",
       "       [0.1 ],\n",
       "       [0.42],\n",
       "       [0.02],\n",
       "       [0.48],\n",
       "       [0.22],\n",
       "       [0.18],\n",
       "       [0.2 ],\n",
       "       [0.18],\n",
       "       [0.02],\n",
       "       [0.18],\n",
       "       [0.08],\n",
       "       [0.32],\n",
       "       [0.4 ],\n",
       "       [0.14],\n",
       "       [0.02],\n",
       "       [0.08],\n",
       "       [0.28],\n",
       "       [0.18],\n",
       "       [0.8 ],\n",
       "       [0.92],\n",
       "       [0.38],\n",
       "       [0.16],\n",
       "       [0.02],\n",
       "       [0.38],\n",
       "       [0.82],\n",
       "       [0.12],\n",
       "       [0.46],\n",
       "       [0.  ],\n",
       "       [0.08],\n",
       "       [0.04],\n",
       "       [0.28],\n",
       "       [0.08],\n",
       "       [0.04],\n",
       "       [0.32],\n",
       "       [0.34],\n",
       "       [0.22],\n",
       "       [0.54],\n",
       "       [0.3 ],\n",
       "       [0.02],\n",
       "       [0.22],\n",
       "       [0.14],\n",
       "       [0.4 ],\n",
       "       [0.14],\n",
       "       [0.32],\n",
       "       [0.84],\n",
       "       [0.08],\n",
       "       [0.06],\n",
       "       [0.62],\n",
       "       [0.78],\n",
       "       [0.38],\n",
       "       [0.04],\n",
       "       [0.12],\n",
       "       [0.08],\n",
       "       [0.02],\n",
       "       [0.34],\n",
       "       [0.26],\n",
       "       [0.5 ],\n",
       "       [0.08],\n",
       "       [0.08],\n",
       "       [0.08],\n",
       "       [0.08],\n",
       "       [0.28],\n",
       "       [0.44],\n",
       "       [0.42],\n",
       "       [0.38],\n",
       "       [0.52],\n",
       "       [0.54],\n",
       "       [0.2 ],\n",
       "       [0.12],\n",
       "       [0.08],\n",
       "       [0.08],\n",
       "       [0.34],\n",
       "       [0.28],\n",
       "       [0.38],\n",
       "       [0.  ],\n",
       "       [0.28],\n",
       "       [0.14],\n",
       "       [0.44],\n",
       "       [0.26],\n",
       "       [0.12],\n",
       "       [0.2 ],\n",
       "       [0.44],\n",
       "       [0.08],\n",
       "       [0.36],\n",
       "       [0.26],\n",
       "       [0.38],\n",
       "       [0.38],\n",
       "       [0.08],\n",
       "       [0.08],\n",
       "       [0.08],\n",
       "       [0.14],\n",
       "       [0.22],\n",
       "       [0.26],\n",
       "       [0.98],\n",
       "       [0.5 ],\n",
       "       [0.52],\n",
       "       [0.02],\n",
       "       [0.18],\n",
       "       [0.58],\n",
       "       [0.28],\n",
       "       [0.38],\n",
       "       [0.96],\n",
       "       [0.04],\n",
       "       [0.42],\n",
       "       [0.22],\n",
       "       [0.48],\n",
       "       [0.4 ],\n",
       "       [0.38],\n",
       "       [0.58],\n",
       "       [0.06],\n",
       "       [0.14],\n",
       "       [0.28],\n",
       "       [0.08],\n",
       "       [0.58],\n",
       "       [0.38],\n",
       "       [0.08],\n",
       "       [0.08],\n",
       "       [0.1 ],\n",
       "       [0.26],\n",
       "       [0.7 ],\n",
       "       [0.02],\n",
       "       [0.04],\n",
       "       [0.1 ],\n",
       "       [0.08],\n",
       "       [0.26],\n",
       "       [0.58],\n",
       "       [0.26],\n",
       "       [0.54],\n",
       "       [0.2 ],\n",
       "       [0.4 ],\n",
       "       [0.38],\n",
       "       [0.44],\n",
       "       [0.3 ],\n",
       "       [0.08],\n",
       "       [0.28],\n",
       "       [0.62],\n",
       "       [0.18],\n",
       "       [0.02],\n",
       "       [0.4 ],\n",
       "       [0.08],\n",
       "       [0.58],\n",
       "       [0.08],\n",
       "       [0.1 ],\n",
       "       [0.18],\n",
       "       [0.5 ],\n",
       "       [0.08],\n",
       "       [0.28],\n",
       "       [0.02],\n",
       "       [0.9 ],\n",
       "       [0.08],\n",
       "       [0.08],\n",
       "       [0.4 ],\n",
       "       [0.4 ],\n",
       "       [0.08],\n",
       "       [0.44],\n",
       "       [0.08],\n",
       "       [0.18],\n",
       "       [0.32],\n",
       "       [0.64],\n",
       "       [0.24],\n",
       "       [0.32],\n",
       "       [0.98],\n",
       "       [0.02],\n",
       "       [0.56],\n",
       "       [0.26],\n",
       "       [0.2 ],\n",
       "       [0.08],\n",
       "       [0.34],\n",
       "       [0.18],\n",
       "       [0.28],\n",
       "       [0.18],\n",
       "       [0.98],\n",
       "       [0.34],\n",
       "       [0.46],\n",
       "       [0.02],\n",
       "       [0.7 ],\n",
       "       [0.04],\n",
       "       [0.34],\n",
       "       [0.34],\n",
       "       [0.12],\n",
       "       [0.28],\n",
       "       [0.4 ],\n",
       "       [0.16],\n",
       "       [0.02],\n",
       "       [0.02],\n",
       "       [0.02],\n",
       "       [0.34],\n",
       "       [0.42],\n",
       "       [0.04],\n",
       "       [0.08],\n",
       "       [0.16],\n",
       "       [0.54],\n",
       "       [0.  ],\n",
       "       [0.66],\n",
       "       [0.42],\n",
       "       [0.64],\n",
       "       [0.14],\n",
       "       [0.08],\n",
       "       [0.62],\n",
       "       [0.04],\n",
       "       [0.34],\n",
       "       [0.32],\n",
       "       [0.04],\n",
       "       [0.12],\n",
       "       [0.1 ],\n",
       "       [0.34],\n",
       "       [1.  ],\n",
       "       [0.08],\n",
       "       [0.98],\n",
       "       [0.1 ],\n",
       "       [0.5 ],\n",
       "       [0.04],\n",
       "       [0.98],\n",
       "       [0.08],\n",
       "       [0.42],\n",
       "       [0.14],\n",
       "       [0.44],\n",
       "       [0.38],\n",
       "       [0.98],\n",
       "       [0.26],\n",
       "       [0.02],\n",
       "       [0.22],\n",
       "       [0.  ],\n",
       "       [0.22],\n",
       "       [0.14],\n",
       "       [0.3 ],\n",
       "       [0.34],\n",
       "       [0.08],\n",
       "       [0.16],\n",
       "       [0.08],\n",
       "       [0.34],\n",
       "       [0.08],\n",
       "       [0.08],\n",
       "       [0.04],\n",
       "       [0.34],\n",
       "       [0.02],\n",
       "       [0.44],\n",
       "       [0.7 ],\n",
       "       [0.08],\n",
       "       [0.02],\n",
       "       [0.18],\n",
       "       [0.02],\n",
       "       [0.08],\n",
       "       [0.24],\n",
       "       [0.14],\n",
       "       [0.3 ],\n",
       "       [0.02],\n",
       "       [0.08],\n",
       "       [0.28],\n",
       "       [0.08],\n",
       "       [0.4 ],\n",
       "       [0.38],\n",
       "       [0.26],\n",
       "       [0.1 ],\n",
       "       [0.38],\n",
       "       [0.08],\n",
       "       [0.08],\n",
       "       [0.16],\n",
       "       [0.08],\n",
       "       [0.18],\n",
       "       [0.76],\n",
       "       [0.04],\n",
       "       [0.4 ],\n",
       "       [0.38],\n",
       "       [0.22],\n",
       "       [0.84],\n",
       "       [0.88],\n",
       "       [0.7 ],\n",
       "       [0.42],\n",
       "       [0.7 ],\n",
       "       [0.1 ],\n",
       "       [0.04],\n",
       "       [0.28],\n",
       "       [0.3 ],\n",
       "       [0.38],\n",
       "       [0.2 ],\n",
       "       [0.08],\n",
       "       [0.4 ],\n",
       "       [0.38],\n",
       "       [0.28],\n",
       "       [0.02],\n",
       "       [0.18],\n",
       "       [0.26],\n",
       "       [0.08],\n",
       "       [0.64],\n",
       "       [0.12],\n",
       "       [0.14],\n",
       "       [0.54],\n",
       "       [0.98],\n",
       "       [0.28],\n",
       "       [0.36],\n",
       "       [0.46],\n",
       "       [0.46],\n",
       "       [0.08],\n",
       "       [0.22],\n",
       "       [0.08],\n",
       "       [0.38],\n",
       "       [0.44],\n",
       "       [0.18],\n",
       "       [0.08],\n",
       "       [0.46],\n",
       "       [0.14],\n",
       "       [0.34],\n",
       "       [0.14],\n",
       "       [0.18],\n",
       "       [0.26],\n",
       "       [0.38],\n",
       "       [0.02],\n",
       "       [0.02],\n",
       "       [0.02],\n",
       "       [0.08],\n",
       "       [0.36],\n",
       "       [0.7 ],\n",
       "       [0.38],\n",
       "       [0.02],\n",
       "       [0.7 ],\n",
       "       [0.38],\n",
       "       [0.5 ],\n",
       "       [0.08],\n",
       "       [0.14],\n",
       "       [0.34],\n",
       "       [0.02],\n",
       "       [0.24],\n",
       "       [0.22],\n",
       "       [0.16],\n",
       "       [0.28],\n",
       "       [0.08],\n",
       "       [0.22],\n",
       "       [0.02],\n",
       "       [0.16],\n",
       "       [0.44],\n",
       "       [0.22],\n",
       "       [0.28],\n",
       "       [0.58],\n",
       "       [0.38],\n",
       "       [0.02],\n",
       "       [0.02],\n",
       "       [0.02],\n",
       "       [0.38],\n",
       "       [0.14],\n",
       "       [0.42],\n",
       "       [0.22],\n",
       "       [0.68],\n",
       "       [0.5 ],\n",
       "       [0.18],\n",
       "       [0.14],\n",
       "       [0.48],\n",
       "       [0.7 ],\n",
       "       [0.28],\n",
       "       [0.04],\n",
       "       [0.08],\n",
       "       [0.12],\n",
       "       [0.14],\n",
       "       [0.9 ],\n",
       "       [0.14],\n",
       "       [0.08],\n",
       "       [0.78],\n",
       "       [0.1 ],\n",
       "       [0.02],\n",
       "       [0.08],\n",
       "       [0.7 ],\n",
       "       [0.38],\n",
       "       [0.34],\n",
       "       [0.02],\n",
       "       [0.08],\n",
       "       [0.08],\n",
       "       [0.28],\n",
       "       [0.24],\n",
       "       [0.06],\n",
       "       [0.02],\n",
       "       [0.38],\n",
       "       [0.44],\n",
       "       [0.38],\n",
       "       [0.82],\n",
       "       [0.14],\n",
       "       [0.86],\n",
       "       [0.04],\n",
       "       [0.4 ],\n",
       "       [0.34],\n",
       "       [0.42],\n",
       "       [0.1 ],\n",
       "       [0.7 ],\n",
       "       [0.56],\n",
       "       [0.58],\n",
       "       [0.4 ],\n",
       "       [0.12],\n",
       "       [0.18],\n",
       "       [0.58],\n",
       "       [0.02],\n",
       "       [0.08],\n",
       "       [0.38],\n",
       "       [0.14],\n",
       "       [0.34],\n",
       "       [0.7 ],\n",
       "       [0.08],\n",
       "       [0.08],\n",
       "       [0.08],\n",
       "       [0.14],\n",
       "       [0.38],\n",
       "       [0.12],\n",
       "       [0.18],\n",
       "       [0.04],\n",
       "       [0.48],\n",
       "       [0.16],\n",
       "       [0.76],\n",
       "       [0.08],\n",
       "       [0.04],\n",
       "       [0.02],\n",
       "       [0.04],\n",
       "       [0.46],\n",
       "       [0.16],\n",
       "       [0.02],\n",
       "       [0.3 ],\n",
       "       [0.38],\n",
       "       [0.18],\n",
       "       [0.98],\n",
       "       [0.34],\n",
       "       [0.42],\n",
       "       [0.76],\n",
       "       [0.38],\n",
       "       [0.14],\n",
       "       [0.12],\n",
       "       [0.  ],\n",
       "       [0.38],\n",
       "       [0.3 ],\n",
       "       [0.6 ],\n",
       "       [0.7 ],\n",
       "       [0.54],\n",
       "       [0.18],\n",
       "       [0.08],\n",
       "       [0.12],\n",
       "       [0.26],\n",
       "       [0.56],\n",
       "       [0.26],\n",
       "       [0.02],\n",
       "       [0.54],\n",
       "       [0.02],\n",
       "       [0.14],\n",
       "       [0.5 ],\n",
       "       [0.7 ],\n",
       "       [0.78],\n",
       "       [0.16],\n",
       "       [0.64],\n",
       "       [0.66],\n",
       "       [0.02],\n",
       "       [0.36],\n",
       "       [0.08],\n",
       "       [0.48]])"
      ]
     },
     "execution_count": 30,
     "metadata": {},
     "output_type": "execute_result"
    }
   ],
   "source": [
    "#call the limit balance column in the test which has been scaled\n",
    "test_scaller"
   ]
  },
  {
   "cell_type": "markdown",
   "metadata": {},
   "source": [
    "## Combining data that has been in data preprocessing"
   ]
  },
  {
   "cell_type": "code",
   "execution_count": 31,
   "metadata": {},
   "outputs": [],
   "source": [
    "#create a new variable to hold the categorical columns in x train and x test\n",
    "X_train_cat=X_train_trimmer[['pay_1', 'pay_2', 'pay_3', 'pay_4','pay_5','pay_6']]\n",
    "X_test_cat=X_test[['pay_1', 'pay_2', 'pay_3', 'pay_4','pay_5','pay_6']]\n"
   ]
  },
  {
   "cell_type": "code",
   "execution_count": 32,
   "metadata": {},
   "outputs": [],
   "source": [
    "#combine the results of x trains. and x test numerical and x train categorical which have been data preprocessed\n",
    "X_train_final = np.concatenate([train_scaller, X_train_cat], axis=1)\n",
    "X_test_final = np.concatenate([test_scaller, X_test_cat], axis=1)"
   ]
  },
  {
   "cell_type": "code",
   "execution_count": 33,
   "metadata": {},
   "outputs": [
    {
     "data": {
      "text/plain": [
       "array([[ 0.58,  0.  ,  0.  , ...,  0.  ,  0.  ,  2.  ],\n",
       "       [ 0.5 ,  0.  ,  0.  , ...,  0.  ,  0.  ,  0.  ],\n",
       "       [ 0.56,  0.  ,  0.  , ...,  0.  ,  0.  ,  0.  ],\n",
       "       ...,\n",
       "       [ 0.24,  0.  ,  0.  , ...,  0.  , -2.  , -2.  ],\n",
       "       [ 0.14,  2.  ,  2.  , ...,  2.  ,  0.  ,  0.  ],\n",
       "       [ 0.24, -1.  ,  2.  , ...,  2.  , -1.  , -1.  ]])"
      ]
     },
     "execution_count": 33,
     "metadata": {},
     "output_type": "execute_result"
    }
   ],
   "source": [
    "#call the final x train that has been merged\n",
    "X_train_final"
   ]
  },
  {
   "cell_type": "code",
   "execution_count": 34,
   "metadata": {},
   "outputs": [
    {
     "data": {
      "text/plain": [
       "array([[ 0.12,  0.  ,  0.  , ...,  0.  ,  0.  ,  0.  ],\n",
       "       [ 0.08,  0.  ,  0.  , ...,  0.  ,  0.  ,  0.  ],\n",
       "       [ 0.4 ,  0.  ,  0.  , ...,  0.  ,  0.  ,  0.  ],\n",
       "       ...,\n",
       "       [ 0.36,  0.  ,  0.  , ...,  0.  ,  0.  , -1.  ],\n",
       "       [ 0.08,  0.  ,  0.  , ...,  0.  ,  2.  ,  0.  ],\n",
       "       [ 0.48,  0.  ,  0.  , ...,  0.  ,  0.  ,  0.  ]])"
      ]
     },
     "execution_count": 34,
     "metadata": {},
     "output_type": "execute_result"
    }
   ],
   "source": [
    "#call the final x test that has been merged\n",
    "X_test_final"
   ]
  },
  {
   "cell_type": "code",
   "execution_count": 35,
   "metadata": {},
   "outputs": [],
   "source": [
    "#equalize the index on y train and y test with the loc function\n",
    "y_train = y_train.loc[X_train_trimmer.index]\n",
    "y_test = y_test.loc[X_test.index]"
   ]
  },
  {
   "cell_type": "code",
   "execution_count": 36,
   "metadata": {},
   "outputs": [
    {
     "data": {
      "text/plain": [
       "array([[ 0.58,  0.  ,  0.  , ...,  0.  ,  0.  ,  2.  ],\n",
       "       [ 0.5 ,  0.  ,  0.  , ...,  0.  ,  0.  ,  0.  ],\n",
       "       [ 0.56,  0.  ,  0.  , ...,  0.  ,  0.  ,  0.  ],\n",
       "       ...,\n",
       "       [ 0.24,  0.  ,  0.  , ...,  0.  , -2.  , -2.  ],\n",
       "       [ 0.14,  2.  ,  2.  , ...,  2.  ,  0.  ,  0.  ],\n",
       "       [ 0.24, -1.  ,  2.  , ...,  2.  , -1.  , -1.  ]])"
      ]
     },
     "execution_count": 36,
     "metadata": {},
     "output_type": "execute_result"
    }
   ],
   "source": [
    "X_train_final"
   ]
  },
  {
   "cell_type": "markdown",
   "metadata": {},
   "source": [
    "## SmotheNC "
   ]
  },
  {
   "cell_type": "code",
   "execution_count": 37,
   "metadata": {},
   "outputs": [
    {
     "data": {
      "text/plain": [
       "def_payment\n",
       "0    1855\n",
       "1    1855\n",
       "Name: count, dtype: int64"
      ]
     },
     "execution_count": 37,
     "metadata": {},
     "output_type": "execute_result"
    }
   ],
   "source": [
    "#perform smotenc to balance data\n",
    "smotenc = SMOTENC([1,2,3,4,5,6], random_state = 66)\n",
    "x_train_balanced, y_train_balanced = smotenc.fit_resample(X_train_final, y_train)\n",
    "y_train_balanced.value_counts()"
   ]
  },
  {
   "cell_type": "code",
   "execution_count": 38,
   "metadata": {},
   "outputs": [],
   "source": [
    "#create a new variable for data that has been balanced\n",
    "X_train_finals= x_train_balanced\n",
    "y_trains= y_train_balanced"
   ]
  },
  {
   "cell_type": "markdown",
   "metadata": {},
   "source": [
    "# vii Model Definition"
   ]
  },
  {
   "cell_type": "markdown",
   "metadata": {},
   "source": [
    "## Logistic regression"
   ]
  },
  {
   "cell_type": "code",
   "execution_count": 39,
   "metadata": {},
   "outputs": [
    {
     "name": "stdout",
     "output_type": "stream",
     "text": [
      "Coefficient :  [[-0.90840624  0.61806286 -0.07365562  0.15539639 -0.07593628  0.04412125\n",
      "   0.12469467]]\n",
      "Intercept   :  [0.10615282]\n"
     ]
    }
   ],
   "source": [
    "#define the Logistic Repression model\n",
    "model_logreg = LogisticRegression()\n",
    "model_logreg.fit(X_train_finals, y_trains)\n",
    "\n",
    "print('Coefficient : ', model_logreg.coef_)\n",
    "print('Intercept   : ', model_logreg.intercept_)"
   ]
  },
  {
   "cell_type": "markdown",
   "metadata": {},
   "source": [
    "These results from the logistic regression model show that there are several independent variables that have a significant influence on the dependent variable, with positive and negative coefficients indicating the direction of the relationship, as well as a positive intercept value indicating the basic probability of the dependent variable."
   ]
  },
  {
   "cell_type": "code",
   "execution_count": 40,
   "metadata": {},
   "outputs": [
    {
     "name": "stdout",
     "output_type": "stream",
     "text": [
      "----------default Logistic Regression-------------\n",
      "              precision    recall  f1-score   support\n",
      "\n",
      "           0       0.67      0.72      0.69      1855\n",
      "           1       0.70      0.65      0.67      1855\n",
      "\n",
      "    accuracy                           0.68      3710\n",
      "   macro avg       0.68      0.68      0.68      3710\n",
      "weighted avg       0.68      0.68      0.68      3710\n",
      "\n"
     ]
    }
   ],
   "source": [
    "#see the default value of the logistic regression model from x train data\n",
    "y_train_predict_logreg = model_logreg.predict(X_train_finals)\n",
    "print('----------default Logistic Regression-------------')\n",
    "print(classification_report(y_trains,y_train_predict_logreg))"
   ]
  },
  {
   "cell_type": "code",
   "execution_count": 41,
   "metadata": {},
   "outputs": [
    {
     "name": "stdout",
     "output_type": "stream",
     "text": [
      "----------default Logistic Regression-------------\n",
      "              precision    recall  f1-score   support\n",
      "\n",
      "           0       0.87      0.72      0.79       466\n",
      "           1       0.38      0.61      0.47       127\n",
      "\n",
      "    accuracy                           0.70       593\n",
      "   macro avg       0.62      0.67      0.63       593\n",
      "weighted avg       0.77      0.70      0.72       593\n",
      "\n"
     ]
    }
   ],
   "source": [
    "#see the default value of the logistic regression model from x test data\n",
    "y_test_predict_logreg = model_logreg.predict(X_test_final)\n",
    "print('----------default Logistic Regression-------------')\n",
    "print(classification_report(y_test,y_test_predict_logreg))"
   ]
  },
  {
   "cell_type": "markdown",
   "metadata": {},
   "source": [
    "seen from the default Logistic Regression f1_score value, it has a train range value of 0.67 and test 0.47"
   ]
  },
  {
   "cell_type": "markdown",
   "metadata": {},
   "source": [
    "KNN"
   ]
  },
  {
   "cell_type": "code",
   "execution_count": 42,
   "metadata": {},
   "outputs": [
    {
     "data": {
      "text/html": [
       "<style>#sk-container-id-1 {color: black;}#sk-container-id-1 pre{padding: 0;}#sk-container-id-1 div.sk-toggleable {background-color: white;}#sk-container-id-1 label.sk-toggleable__label {cursor: pointer;display: block;width: 100%;margin-bottom: 0;padding: 0.3em;box-sizing: border-box;text-align: center;}#sk-container-id-1 label.sk-toggleable__label-arrow:before {content: \"▸\";float: left;margin-right: 0.25em;color: #696969;}#sk-container-id-1 label.sk-toggleable__label-arrow:hover:before {color: black;}#sk-container-id-1 div.sk-estimator:hover label.sk-toggleable__label-arrow:before {color: black;}#sk-container-id-1 div.sk-toggleable__content {max-height: 0;max-width: 0;overflow: hidden;text-align: left;background-color: #f0f8ff;}#sk-container-id-1 div.sk-toggleable__content pre {margin: 0.2em;color: black;border-radius: 0.25em;background-color: #f0f8ff;}#sk-container-id-1 input.sk-toggleable__control:checked~div.sk-toggleable__content {max-height: 200px;max-width: 100%;overflow: auto;}#sk-container-id-1 input.sk-toggleable__control:checked~label.sk-toggleable__label-arrow:before {content: \"▾\";}#sk-container-id-1 div.sk-estimator input.sk-toggleable__control:checked~label.sk-toggleable__label {background-color: #d4ebff;}#sk-container-id-1 div.sk-label input.sk-toggleable__control:checked~label.sk-toggleable__label {background-color: #d4ebff;}#sk-container-id-1 input.sk-hidden--visually {border: 0;clip: rect(1px 1px 1px 1px);clip: rect(1px, 1px, 1px, 1px);height: 1px;margin: -1px;overflow: hidden;padding: 0;position: absolute;width: 1px;}#sk-container-id-1 div.sk-estimator {font-family: monospace;background-color: #f0f8ff;border: 1px dotted black;border-radius: 0.25em;box-sizing: border-box;margin-bottom: 0.5em;}#sk-container-id-1 div.sk-estimator:hover {background-color: #d4ebff;}#sk-container-id-1 div.sk-parallel-item::after {content: \"\";width: 100%;border-bottom: 1px solid gray;flex-grow: 1;}#sk-container-id-1 div.sk-label:hover label.sk-toggleable__label {background-color: #d4ebff;}#sk-container-id-1 div.sk-serial::before {content: \"\";position: absolute;border-left: 1px solid gray;box-sizing: border-box;top: 0;bottom: 0;left: 50%;z-index: 0;}#sk-container-id-1 div.sk-serial {display: flex;flex-direction: column;align-items: center;background-color: white;padding-right: 0.2em;padding-left: 0.2em;position: relative;}#sk-container-id-1 div.sk-item {position: relative;z-index: 1;}#sk-container-id-1 div.sk-parallel {display: flex;align-items: stretch;justify-content: center;background-color: white;position: relative;}#sk-container-id-1 div.sk-item::before, #sk-container-id-1 div.sk-parallel-item::before {content: \"\";position: absolute;border-left: 1px solid gray;box-sizing: border-box;top: 0;bottom: 0;left: 50%;z-index: -1;}#sk-container-id-1 div.sk-parallel-item {display: flex;flex-direction: column;z-index: 1;position: relative;background-color: white;}#sk-container-id-1 div.sk-parallel-item:first-child::after {align-self: flex-end;width: 50%;}#sk-container-id-1 div.sk-parallel-item:last-child::after {align-self: flex-start;width: 50%;}#sk-container-id-1 div.sk-parallel-item:only-child::after {width: 0;}#sk-container-id-1 div.sk-dashed-wrapped {border: 1px dashed gray;margin: 0 0.4em 0.5em 0.4em;box-sizing: border-box;padding-bottom: 0.4em;background-color: white;}#sk-container-id-1 div.sk-label label {font-family: monospace;font-weight: bold;display: inline-block;line-height: 1.2em;}#sk-container-id-1 div.sk-label-container {text-align: center;}#sk-container-id-1 div.sk-container {/* jupyter's `normalize.less` sets `[hidden] { display: none; }` but bootstrap.min.css set `[hidden] { display: none !important; }` so we also need the `!important` here to be able to override the default hidden behavior on the sphinx rendered scikit-learn.org. See: https://github.com/scikit-learn/scikit-learn/issues/21755 */display: inline-block !important;position: relative;}#sk-container-id-1 div.sk-text-repr-fallback {display: none;}</style><div id=\"sk-container-id-1\" class=\"sk-top-container\"><div class=\"sk-text-repr-fallback\"><pre>KNeighborsClassifier()</pre><b>In a Jupyter environment, please rerun this cell to show the HTML representation or trust the notebook. <br />On GitHub, the HTML representation is unable to render, please try loading this page with nbviewer.org.</b></div><div class=\"sk-container\" hidden><div class=\"sk-item\"><div class=\"sk-estimator sk-toggleable\"><input class=\"sk-toggleable__control sk-hidden--visually\" id=\"sk-estimator-id-1\" type=\"checkbox\" checked><label for=\"sk-estimator-id-1\" class=\"sk-toggleable__label sk-toggleable__label-arrow\">KNeighborsClassifier</label><div class=\"sk-toggleable__content\"><pre>KNeighborsClassifier()</pre></div></div></div></div></div>"
      ],
      "text/plain": [
       "KNeighborsClassifier()"
      ]
     },
     "execution_count": 42,
     "metadata": {},
     "output_type": "execute_result"
    }
   ],
   "source": [
    "#define KNN model\n",
    "knn = KNeighborsClassifier()\n",
    "knn.fit(X_train_finals, y_trains)"
   ]
  },
  {
   "cell_type": "code",
   "execution_count": 43,
   "metadata": {},
   "outputs": [
    {
     "name": "stdout",
     "output_type": "stream",
     "text": [
      "----------default KNN-------------\n",
      "              precision    recall  f1-score   support\n",
      "\n",
      "           0       0.76      0.88      0.82      1855\n",
      "           1       0.86      0.72      0.79      1855\n",
      "\n",
      "    accuracy                           0.80      3710\n",
      "   macro avg       0.81      0.80      0.80      3710\n",
      "weighted avg       0.81      0.80      0.80      3710\n",
      "\n"
     ]
    }
   ],
   "source": [
    "#see the default value of the KNN model from x train data\n",
    "y_train_predict_knn = knn.predict(X_train_finals)\n",
    "print('----------default KNN-------------')\n",
    "print(classification_report(y_trains,y_train_predict_knn))"
   ]
  },
  {
   "cell_type": "code",
   "execution_count": 44,
   "metadata": {},
   "outputs": [
    {
     "name": "stdout",
     "output_type": "stream",
     "text": [
      "----------default KNN-------------\n",
      "              precision    recall  f1-score   support\n",
      "\n",
      "           0       0.86      0.85      0.85       466\n",
      "           1       0.47      0.49      0.48       127\n",
      "\n",
      "    accuracy                           0.77       593\n",
      "   macro avg       0.66      0.67      0.67       593\n",
      "weighted avg       0.78      0.77      0.77       593\n",
      "\n"
     ]
    }
   ],
   "source": [
    "#see the default value of the KNN model from the x test data\n",
    "y_test_predict_knn = knn.predict(X_test_final)\n",
    "print('----------default KNN-------------')\n",
    "print(classification_report(y_test,y_test_predict_knn))"
   ]
  },
  {
   "cell_type": "markdown",
   "metadata": {},
   "source": [
    "seen from the default KNN f1_score value, it has a train range value of 0.79 and test 0.48"
   ]
  },
  {
   "cell_type": "markdown",
   "metadata": {},
   "source": [
    "SVM"
   ]
  },
  {
   "cell_type": "code",
   "execution_count": 45,
   "metadata": {},
   "outputs": [
    {
     "data": {
      "text/html": [
       "<style>#sk-container-id-2 {color: black;}#sk-container-id-2 pre{padding: 0;}#sk-container-id-2 div.sk-toggleable {background-color: white;}#sk-container-id-2 label.sk-toggleable__label {cursor: pointer;display: block;width: 100%;margin-bottom: 0;padding: 0.3em;box-sizing: border-box;text-align: center;}#sk-container-id-2 label.sk-toggleable__label-arrow:before {content: \"▸\";float: left;margin-right: 0.25em;color: #696969;}#sk-container-id-2 label.sk-toggleable__label-arrow:hover:before {color: black;}#sk-container-id-2 div.sk-estimator:hover label.sk-toggleable__label-arrow:before {color: black;}#sk-container-id-2 div.sk-toggleable__content {max-height: 0;max-width: 0;overflow: hidden;text-align: left;background-color: #f0f8ff;}#sk-container-id-2 div.sk-toggleable__content pre {margin: 0.2em;color: black;border-radius: 0.25em;background-color: #f0f8ff;}#sk-container-id-2 input.sk-toggleable__control:checked~div.sk-toggleable__content {max-height: 200px;max-width: 100%;overflow: auto;}#sk-container-id-2 input.sk-toggleable__control:checked~label.sk-toggleable__label-arrow:before {content: \"▾\";}#sk-container-id-2 div.sk-estimator input.sk-toggleable__control:checked~label.sk-toggleable__label {background-color: #d4ebff;}#sk-container-id-2 div.sk-label input.sk-toggleable__control:checked~label.sk-toggleable__label {background-color: #d4ebff;}#sk-container-id-2 input.sk-hidden--visually {border: 0;clip: rect(1px 1px 1px 1px);clip: rect(1px, 1px, 1px, 1px);height: 1px;margin: -1px;overflow: hidden;padding: 0;position: absolute;width: 1px;}#sk-container-id-2 div.sk-estimator {font-family: monospace;background-color: #f0f8ff;border: 1px dotted black;border-radius: 0.25em;box-sizing: border-box;margin-bottom: 0.5em;}#sk-container-id-2 div.sk-estimator:hover {background-color: #d4ebff;}#sk-container-id-2 div.sk-parallel-item::after {content: \"\";width: 100%;border-bottom: 1px solid gray;flex-grow: 1;}#sk-container-id-2 div.sk-label:hover label.sk-toggleable__label {background-color: #d4ebff;}#sk-container-id-2 div.sk-serial::before {content: \"\";position: absolute;border-left: 1px solid gray;box-sizing: border-box;top: 0;bottom: 0;left: 50%;z-index: 0;}#sk-container-id-2 div.sk-serial {display: flex;flex-direction: column;align-items: center;background-color: white;padding-right: 0.2em;padding-left: 0.2em;position: relative;}#sk-container-id-2 div.sk-item {position: relative;z-index: 1;}#sk-container-id-2 div.sk-parallel {display: flex;align-items: stretch;justify-content: center;background-color: white;position: relative;}#sk-container-id-2 div.sk-item::before, #sk-container-id-2 div.sk-parallel-item::before {content: \"\";position: absolute;border-left: 1px solid gray;box-sizing: border-box;top: 0;bottom: 0;left: 50%;z-index: -1;}#sk-container-id-2 div.sk-parallel-item {display: flex;flex-direction: column;z-index: 1;position: relative;background-color: white;}#sk-container-id-2 div.sk-parallel-item:first-child::after {align-self: flex-end;width: 50%;}#sk-container-id-2 div.sk-parallel-item:last-child::after {align-self: flex-start;width: 50%;}#sk-container-id-2 div.sk-parallel-item:only-child::after {width: 0;}#sk-container-id-2 div.sk-dashed-wrapped {border: 1px dashed gray;margin: 0 0.4em 0.5em 0.4em;box-sizing: border-box;padding-bottom: 0.4em;background-color: white;}#sk-container-id-2 div.sk-label label {font-family: monospace;font-weight: bold;display: inline-block;line-height: 1.2em;}#sk-container-id-2 div.sk-label-container {text-align: center;}#sk-container-id-2 div.sk-container {/* jupyter's `normalize.less` sets `[hidden] { display: none; }` but bootstrap.min.css set `[hidden] { display: none !important; }` so we also need the `!important` here to be able to override the default hidden behavior on the sphinx rendered scikit-learn.org. See: https://github.com/scikit-learn/scikit-learn/issues/21755 */display: inline-block !important;position: relative;}#sk-container-id-2 div.sk-text-repr-fallback {display: none;}</style><div id=\"sk-container-id-2\" class=\"sk-top-container\"><div class=\"sk-text-repr-fallback\"><pre>SVC()</pre><b>In a Jupyter environment, please rerun this cell to show the HTML representation or trust the notebook. <br />On GitHub, the HTML representation is unable to render, please try loading this page with nbviewer.org.</b></div><div class=\"sk-container\" hidden><div class=\"sk-item\"><div class=\"sk-estimator sk-toggleable\"><input class=\"sk-toggleable__control sk-hidden--visually\" id=\"sk-estimator-id-2\" type=\"checkbox\" checked><label for=\"sk-estimator-id-2\" class=\"sk-toggleable__label sk-toggleable__label-arrow\">SVC</label><div class=\"sk-toggleable__content\"><pre>SVC()</pre></div></div></div></div></div>"
      ],
      "text/plain": [
       "SVC()"
      ]
     },
     "execution_count": 45,
     "metadata": {},
     "output_type": "execute_result"
    }
   ],
   "source": [
    "#define SVM model\n",
    "svm_scaled = SVC()\n",
    "svm_scaled.fit(X_train_finals, y_trains)"
   ]
  },
  {
   "cell_type": "code",
   "execution_count": 46,
   "metadata": {},
   "outputs": [
    {
     "name": "stdout",
     "output_type": "stream",
     "text": [
      "----------default SVM-------------\n",
      "              precision    recall  f1-score   support\n",
      "\n",
      "           0       0.67      0.89      0.76      1855\n",
      "           1       0.84      0.56      0.67      1855\n",
      "\n",
      "    accuracy                           0.73      3710\n",
      "   macro avg       0.75      0.73      0.72      3710\n",
      "weighted avg       0.75      0.73      0.72      3710\n",
      "\n"
     ]
    }
   ],
   "source": [
    "#see the default value of the SVM model from x train data\n",
    "y_train_predict_svm = svm_scaled.predict(X_train_finals)\n",
    "print('----------default SVM-------------')\n",
    "print(classification_report(y_trains,y_train_predict_svm))"
   ]
  },
  {
   "cell_type": "code",
   "execution_count": 47,
   "metadata": {},
   "outputs": [
    {
     "name": "stdout",
     "output_type": "stream",
     "text": [
      "----------default SVM-------------\n",
      "              precision    recall  f1-score   support\n",
      "\n",
      "           0       0.87      0.88      0.88       466\n",
      "           1       0.55      0.52      0.53       127\n",
      "\n",
      "    accuracy                           0.80       593\n",
      "   macro avg       0.71      0.70      0.70       593\n",
      "weighted avg       0.80      0.80      0.80       593\n",
      "\n"
     ]
    }
   ],
   "source": [
    "#see the default value of the SVM model from x test data\n",
    "y_test_predict_svm = svm_scaled.predict(X_test_final)\n",
    "print('----------default SVM-------------')\n",
    "print(classification_report(y_test,y_test_predict_svm))"
   ]
  },
  {
   "cell_type": "markdown",
   "metadata": {},
   "source": [
    "seen from the default SVM f1_score value, it has a train range value of 0.67 and test 0.53"
   ]
  },
  {
   "cell_type": "markdown",
   "metadata": {},
   "source": [
    "## Cross Validation"
   ]
  },
  {
   "cell_type": "markdown",
   "metadata": {},
   "source": [
    "Here I carry out cross validation on 3 models including Logistic Regression, KNN and SVM. From the cross validation results, the best model will be taken for hypermeter paratuning, training and evaluation. I use the F1 score assessment because I consider precision and recall to be important"
   ]
  },
  {
   "cell_type": "markdown",
   "metadata": {},
   "source": [
    "### cross validation dengan metode logistec regession"
   ]
  },
  {
   "cell_type": "code",
   "execution_count": 48,
   "metadata": {},
   "outputs": [
    {
     "name": "stdout",
     "output_type": "stream",
     "text": [
      "F1 Score - All - Cross Validation  :  [0.68938401 0.62857143 0.66199158 0.697609   0.68775791]\n",
      "F1 Score - Mean - Cross Validation :  0.6730627869063035\n",
      "F1 Score - Std - Cross Validation  :  0.02524637830058187\n",
      "F1 Score - Range of Test-Set       :  0.6478164086057216 - 0.6983091652068854\n",
      "CPU times: total: 31.2 ms\n",
      "Wall time: 159 ms\n"
     ]
    }
   ],
   "source": [
    "%%time\n",
    "f1_train_cross_val = cross_val_score(model_logreg,\n",
    "                                     X_train_finals,\n",
    "                                     y_trains,\n",
    "                                     cv=5,\n",
    "                                     scoring=\"f1\")\n",
    "\n",
    "print('F1 Score - All - Cross Validation  : ', f1_train_cross_val)\n",
    "print('F1 Score - Mean - Cross Validation : ', f1_train_cross_val.mean())\n",
    "print('F1 Score - Std - Cross Validation  : ', f1_train_cross_val.std())\n",
    "print('F1 Score - Range of Test-Set       : ', (f1_train_cross_val.mean()-f1_train_cross_val.std()) , '-', (f1_train_cross_val.mean()+f1_train_cross_val.std()))"
   ]
  },
  {
   "cell_type": "markdown",
   "metadata": {},
   "source": [
    "Judging from the STD value of the Logistic Regression model, it can be said that this model is the best fit"
   ]
  },
  {
   "cell_type": "markdown",
   "metadata": {},
   "source": [
    "### cross validation dengan metode knn"
   ]
  },
  {
   "cell_type": "code",
   "execution_count": 49,
   "metadata": {},
   "outputs": [
    {
     "name": "stdout",
     "output_type": "stream",
     "text": [
      "F1 Score - All - Cross Validation  :  [0.68085106 0.69822485 0.7532097  0.75177305 0.74532374]\n",
      "F1 Score - Mean - Cross Validation :  0.7258764813962675\n",
      "F1 Score - Std - Cross Validation  :  0.030291364602699242\n",
      "F1 Score - Range of Test-Set       :  0.6955851167935683 - 0.7561678459989667\n",
      "CPU times: total: 46.9 ms\n",
      "Wall time: 375 ms\n"
     ]
    }
   ],
   "source": [
    "%%time\n",
    "f1_train_cross_val = cross_val_score(knn,\n",
    "                                     X_train_finals,\n",
    "                                     y_trains,\n",
    "                                     cv=5,\n",
    "                                     scoring=\"f1\")\n",
    "\n",
    "print('F1 Score - All - Cross Validation  : ', f1_train_cross_val)\n",
    "print('F1 Score - Mean - Cross Validation : ', f1_train_cross_val.mean())\n",
    "print('F1 Score - Std - Cross Validation  : ', f1_train_cross_val.std())\n",
    "print('F1 Score - Range of Test-Set       : ', (f1_train_cross_val.mean()-f1_train_cross_val.std()) , '-', (f1_train_cross_val.mean()+f1_train_cross_val.std()))"
   ]
  },
  {
   "cell_type": "markdown",
   "metadata": {},
   "source": [
    "Judging from the STD value of the KNN model of 0.03, it can be said that this model is the best fit"
   ]
  },
  {
   "cell_type": "markdown",
   "metadata": {},
   "source": [
    "### cross validation dengan metode SVM"
   ]
  },
  {
   "cell_type": "code",
   "execution_count": 50,
   "metadata": {},
   "outputs": [
    {
     "name": "stdout",
     "output_type": "stream",
     "text": [
      "F1 Score - All - Cross Validation  :  [0.66242038 0.60883797 0.63578275 0.68330733 0.6793049 ]\n",
      "F1 Score - Mean - Cross Validation :  0.653930665983441\n",
      "F1 Score - Std - Cross Validation  :  0.028077085118753956\n",
      "F1 Score - Range of Test-Set       :  0.625853580864687 - 0.6820077511021949\n",
      "CPU times: total: 641 ms\n",
      "Wall time: 2.75 s\n"
     ]
    }
   ],
   "source": [
    "%%time\n",
    "f1_train_cross_val = cross_val_score(svm_scaled,\n",
    "                                     X_train_finals,\n",
    "                                     y_trains,\n",
    "                                     cv=5,\n",
    "                                     scoring=\"f1\")\n",
    "\n",
    "print('F1 Score - All - Cross Validation  : ', f1_train_cross_val)\n",
    "print('F1 Score - Mean - Cross Validation : ', f1_train_cross_val.mean())\n",
    "print('F1 Score - Std - Cross Validation  : ', f1_train_cross_val.std())\n",
    "print('F1 Score - Range of Test-Set       : ', (f1_train_cross_val.mean()-f1_train_cross_val.std()) , '-', (f1_train_cross_val.mean()+f1_train_cross_val.std()))"
   ]
  },
  {
   "cell_type": "markdown",
   "metadata": {},
   "source": [
    "Judging from the STD value of the SVM model, it can be said that this model is the best fit"
   ]
  },
  {
   "cell_type": "markdown",
   "metadata": {},
   "source": [
    "Conclusion: from the cross validation results above, I took the KNN model for hypertuning parameters because the results were the best among the 3 other models with an F1 Score - Range of Test-Set value of 0.6955851167935683 - 0.7561678459989667"
   ]
  },
  {
   "cell_type": "markdown",
   "metadata": {},
   "source": [
    "# viii. Model Training"
   ]
  },
  {
   "cell_type": "code",
   "execution_count": 51,
   "metadata": {},
   "outputs": [],
   "source": [
    "# Define parameters for the SVM method\n",
    "random_search_params = {\n",
    "    'weights': ['uniform', 'distance'],\n",
    "    'p': [1, 2],\n",
    "    'n_neighbors': [3, 5, 7, 9]\n",
    "}"
   ]
  },
  {
   "cell_type": "code",
   "execution_count": 52,
   "metadata": {},
   "outputs": [
    {
     "name": "stderr",
     "output_type": "stream",
     "text": [
      "c:\\Users\\kenne\\AppData\\Local\\Programs\\Python\\Python311\\Lib\\site-packages\\sklearn\\model_selection\\_search.py:307: UserWarning: The total space of parameters 16 is smaller than n_iter=100. Running 16 iterations. For exhaustive searches, use GridSearchCV.\n",
      "  warnings.warn(\n"
     ]
    },
    {
     "data": {
      "text/html": [
       "<style>#sk-container-id-3 {color: black;}#sk-container-id-3 pre{padding: 0;}#sk-container-id-3 div.sk-toggleable {background-color: white;}#sk-container-id-3 label.sk-toggleable__label {cursor: pointer;display: block;width: 100%;margin-bottom: 0;padding: 0.3em;box-sizing: border-box;text-align: center;}#sk-container-id-3 label.sk-toggleable__label-arrow:before {content: \"▸\";float: left;margin-right: 0.25em;color: #696969;}#sk-container-id-3 label.sk-toggleable__label-arrow:hover:before {color: black;}#sk-container-id-3 div.sk-estimator:hover label.sk-toggleable__label-arrow:before {color: black;}#sk-container-id-3 div.sk-toggleable__content {max-height: 0;max-width: 0;overflow: hidden;text-align: left;background-color: #f0f8ff;}#sk-container-id-3 div.sk-toggleable__content pre {margin: 0.2em;color: black;border-radius: 0.25em;background-color: #f0f8ff;}#sk-container-id-3 input.sk-toggleable__control:checked~div.sk-toggleable__content {max-height: 200px;max-width: 100%;overflow: auto;}#sk-container-id-3 input.sk-toggleable__control:checked~label.sk-toggleable__label-arrow:before {content: \"▾\";}#sk-container-id-3 div.sk-estimator input.sk-toggleable__control:checked~label.sk-toggleable__label {background-color: #d4ebff;}#sk-container-id-3 div.sk-label input.sk-toggleable__control:checked~label.sk-toggleable__label {background-color: #d4ebff;}#sk-container-id-3 input.sk-hidden--visually {border: 0;clip: rect(1px 1px 1px 1px);clip: rect(1px, 1px, 1px, 1px);height: 1px;margin: -1px;overflow: hidden;padding: 0;position: absolute;width: 1px;}#sk-container-id-3 div.sk-estimator {font-family: monospace;background-color: #f0f8ff;border: 1px dotted black;border-radius: 0.25em;box-sizing: border-box;margin-bottom: 0.5em;}#sk-container-id-3 div.sk-estimator:hover {background-color: #d4ebff;}#sk-container-id-3 div.sk-parallel-item::after {content: \"\";width: 100%;border-bottom: 1px solid gray;flex-grow: 1;}#sk-container-id-3 div.sk-label:hover label.sk-toggleable__label {background-color: #d4ebff;}#sk-container-id-3 div.sk-serial::before {content: \"\";position: absolute;border-left: 1px solid gray;box-sizing: border-box;top: 0;bottom: 0;left: 50%;z-index: 0;}#sk-container-id-3 div.sk-serial {display: flex;flex-direction: column;align-items: center;background-color: white;padding-right: 0.2em;padding-left: 0.2em;position: relative;}#sk-container-id-3 div.sk-item {position: relative;z-index: 1;}#sk-container-id-3 div.sk-parallel {display: flex;align-items: stretch;justify-content: center;background-color: white;position: relative;}#sk-container-id-3 div.sk-item::before, #sk-container-id-3 div.sk-parallel-item::before {content: \"\";position: absolute;border-left: 1px solid gray;box-sizing: border-box;top: 0;bottom: 0;left: 50%;z-index: -1;}#sk-container-id-3 div.sk-parallel-item {display: flex;flex-direction: column;z-index: 1;position: relative;background-color: white;}#sk-container-id-3 div.sk-parallel-item:first-child::after {align-self: flex-end;width: 50%;}#sk-container-id-3 div.sk-parallel-item:last-child::after {align-self: flex-start;width: 50%;}#sk-container-id-3 div.sk-parallel-item:only-child::after {width: 0;}#sk-container-id-3 div.sk-dashed-wrapped {border: 1px dashed gray;margin: 0 0.4em 0.5em 0.4em;box-sizing: border-box;padding-bottom: 0.4em;background-color: white;}#sk-container-id-3 div.sk-label label {font-family: monospace;font-weight: bold;display: inline-block;line-height: 1.2em;}#sk-container-id-3 div.sk-label-container {text-align: center;}#sk-container-id-3 div.sk-container {/* jupyter's `normalize.less` sets `[hidden] { display: none; }` but bootstrap.min.css set `[hidden] { display: none !important; }` so we also need the `!important` here to be able to override the default hidden behavior on the sphinx rendered scikit-learn.org. See: https://github.com/scikit-learn/scikit-learn/issues/21755 */display: inline-block !important;position: relative;}#sk-container-id-3 div.sk-text-repr-fallback {display: none;}</style><div id=\"sk-container-id-3\" class=\"sk-top-container\"><div class=\"sk-text-repr-fallback\"><pre>RandomizedSearchCV(cv=5, estimator=KNeighborsClassifier(), n_iter=100,\n",
       "                   n_jobs=-1,\n",
       "                   param_distributions={&#x27;n_neighbors&#x27;: [3, 5, 7, 9],\n",
       "                                        &#x27;p&#x27;: [1, 2],\n",
       "                                        &#x27;weights&#x27;: [&#x27;uniform&#x27;, &#x27;distance&#x27;]},\n",
       "                   random_state=3, scoring=&#x27;f1&#x27;)</pre><b>In a Jupyter environment, please rerun this cell to show the HTML representation or trust the notebook. <br />On GitHub, the HTML representation is unable to render, please try loading this page with nbviewer.org.</b></div><div class=\"sk-container\" hidden><div class=\"sk-item sk-dashed-wrapped\"><div class=\"sk-label-container\"><div class=\"sk-label sk-toggleable\"><input class=\"sk-toggleable__control sk-hidden--visually\" id=\"sk-estimator-id-3\" type=\"checkbox\" ><label for=\"sk-estimator-id-3\" class=\"sk-toggleable__label sk-toggleable__label-arrow\">RandomizedSearchCV</label><div class=\"sk-toggleable__content\"><pre>RandomizedSearchCV(cv=5, estimator=KNeighborsClassifier(), n_iter=100,\n",
       "                   n_jobs=-1,\n",
       "                   param_distributions={&#x27;n_neighbors&#x27;: [3, 5, 7, 9],\n",
       "                                        &#x27;p&#x27;: [1, 2],\n",
       "                                        &#x27;weights&#x27;: [&#x27;uniform&#x27;, &#x27;distance&#x27;]},\n",
       "                   random_state=3, scoring=&#x27;f1&#x27;)</pre></div></div></div><div class=\"sk-parallel\"><div class=\"sk-parallel-item\"><div class=\"sk-item\"><div class=\"sk-label-container\"><div class=\"sk-label sk-toggleable\"><input class=\"sk-toggleable__control sk-hidden--visually\" id=\"sk-estimator-id-4\" type=\"checkbox\" ><label for=\"sk-estimator-id-4\" class=\"sk-toggleable__label sk-toggleable__label-arrow\">estimator: KNeighborsClassifier</label><div class=\"sk-toggleable__content\"><pre>KNeighborsClassifier()</pre></div></div></div><div class=\"sk-serial\"><div class=\"sk-item\"><div class=\"sk-estimator sk-toggleable\"><input class=\"sk-toggleable__control sk-hidden--visually\" id=\"sk-estimator-id-5\" type=\"checkbox\" ><label for=\"sk-estimator-id-5\" class=\"sk-toggleable__label sk-toggleable__label-arrow\">KNeighborsClassifier</label><div class=\"sk-toggleable__content\"><pre>KNeighborsClassifier()</pre></div></div></div></div></div></div></div></div></div></div>"
      ],
      "text/plain": [
       "RandomizedSearchCV(cv=5, estimator=KNeighborsClassifier(), n_iter=100,\n",
       "                   n_jobs=-1,\n",
       "                   param_distributions={'n_neighbors': [3, 5, 7, 9],\n",
       "                                        'p': [1, 2],\n",
       "                                        'weights': ['uniform', 'distance']},\n",
       "                   random_state=3, scoring='f1')"
      ]
     },
     "execution_count": 52,
     "metadata": {},
     "output_type": "execute_result"
    }
   ],
   "source": [
    "#carry out hyperparameter tuning using the random search method\n",
    "knn_randomcv = RandomizedSearchCV(estimator=KNeighborsClassifier(),\n",
    "                                 param_distributions=random_search_params,\n",
    "                                 n_iter=100,\n",
    "                                 cv=5,\n",
    "                                 random_state=3,\n",
    "                                 n_jobs=-1,\n",
    "                                 scoring='f1')\n",
    "knn_randomcv.fit(X_train_finals, y_trains)"
   ]
  },
  {
   "cell_type": "code",
   "execution_count": 53,
   "metadata": {},
   "outputs": [
    {
     "data": {
      "text/plain": [
       "{'weights': 'distance', 'p': 1, 'n_neighbors': 7}"
      ]
     },
     "execution_count": 53,
     "metadata": {},
     "output_type": "execute_result"
    }
   ],
   "source": [
    "#calling the best parameters in random CV\n",
    "knn_randomcv.best_params_"
   ]
  },
  {
   "cell_type": "code",
   "execution_count": 54,
   "metadata": {},
   "outputs": [],
   "source": [
    "knn_randomcv_best = knn_randomcv.best_estimator_"
   ]
  },
  {
   "cell_type": "code",
   "execution_count": 55,
   "metadata": {},
   "outputs": [
    {
     "name": "stdout",
     "output_type": "stream",
     "text": [
      "0.7293586395568354\n",
      "0.009689121923235657\n"
     ]
    }
   ],
   "source": [
    "#see the mean and standard deviation of hyperparamter tuning random search\n",
    "print(knn_randomcv.cv_results_['mean_test_score'].mean())\n",
    "print(knn_randomcv.cv_results_['mean_test_score'].std())"
   ]
  },
  {
   "cell_type": "markdown",
   "metadata": {},
   "source": [
    "Results: the std results are close to 0 and below the mean, meaning this model is BEST FIT"
   ]
  },
  {
   "cell_type": "code",
   "execution_count": 56,
   "metadata": {},
   "outputs": [
    {
     "name": "stdout",
     "output_type": "stream",
     "text": [
      "F1 Score - Train Set  :  0.8939393939393939 \n",
      "\n",
      "Classification Report : \n",
      "               precision    recall  f1-score   support\n",
      "\n",
      "           0       0.85      0.98      0.91      1855\n",
      "           1       0.97      0.83      0.89      1855\n",
      "\n",
      "    accuracy                           0.90      3710\n",
      "   macro avg       0.91      0.90      0.90      3710\n",
      "weighted avg       0.91      0.90      0.90      3710\n",
      " \n",
      "\n",
      "Confusion Matrix      : \n",
      " <sklearn.metrics._plot.confusion_matrix.ConfusionMatrixDisplay object at 0x000002BBFDB4C510>\n"
     ]
    },
    {
     "data": {
      "image/png": "[encoded data removed]",
      "text/plain": [
       "<Figure size 640x480 with 2 Axes>"
      ]
     },
     "metadata": {},
     "output_type": "display_data"
    }
   ],
   "source": [
    "#see the results of data that has been trained using the random search method\n",
    "y_pred_train_finals = knn_randomcv_best.predict(X_train_finals)\n",
    "\n",
    "print('F1 Score - Train Set  : ', f1_score(y_trains, y_pred_train_finals), '\\n')\n",
    "print('Classification Report : \\n', classification_report(y_trains, y_pred_train_finals), '\\n')\n",
    "print('Confusion Matrix      : \\n', ConfusionMatrixDisplay.from_estimator(knn_randomcv, X_train_finals, y_trains, cmap='Reds'))"
   ]
  },
  {
   "cell_type": "code",
   "execution_count": 57,
   "metadata": {},
   "outputs": [
    {
     "name": "stdout",
     "output_type": "stream",
     "text": [
      "F1 Score - Test Set  :  0.4571428571428572 \n",
      "\n",
      "Classification Report : \n",
      "               precision    recall  f1-score   support\n",
      "\n",
      "           0       0.85      0.87      0.86       466\n",
      "           1       0.47      0.44      0.46       127\n",
      "\n",
      "    accuracy                           0.78       593\n",
      "   macro avg       0.66      0.65      0.66       593\n",
      "weighted avg       0.77      0.78      0.77       593\n",
      " \n",
      "\n",
      "Confusion Matrix      : \n",
      " <sklearn.metrics._plot.confusion_matrix.ConfusionMatrixDisplay object at 0x000002BB80226790>\n"
     ]
    },
    {
     "data": {
      "image/png": "[encoded data removed]",
      "text/plain": [
       "<Figure size 640x480 with 2 Axes>"
      ]
     },
     "metadata": {},
     "output_type": "display_data"
    }
   ],
   "source": [
    "#display test data results using the random search method\n",
    "y_pred_test_finals = knn_randomcv_best.predict(X_test_final)\n",
    "\n",
    "print('F1 Score - Test Set  : ', f1_score(y_test, y_pred_test_finals), '\\n')\n",
    "print('Classification Report : \\n', classification_report(y_test, y_pred_test_finals), '\\n')\n",
    "print('Confusion Matrix      : \\n', ConfusionMatrixDisplay.from_estimator(knn_randomcv, X_test_final, y_test, cmap='Reds'))"
   ]
  },
  {
   "cell_type": "markdown",
   "metadata": {},
   "source": [
    "Conclusion: Judging from the default value of KNN f1_score random search has a train range value of 0.89 and test 0.46"
   ]
  },
  {
   "cell_type": "markdown",
   "metadata": {},
   "source": [
    "# ix Model Evaluation"
   ]
  },
  {
   "cell_type": "code",
   "execution_count": 58,
   "metadata": {},
   "outputs": [
    {
     "data": {
      "text/html": [
       "<div>\n",
       "<style scoped>\n",
       "    .dataframe tbody tr th:only-of-type {\n",
       "        vertical-align: middle;\n",
       "    }\n",
       "\n",
       "    .dataframe tbody tr th {\n",
       "        vertical-align: top;\n",
       "    }\n",
       "\n",
       "    .dataframe thead th {\n",
       "        text-align: right;\n",
       "    }\n",
       "</style>\n",
       "<table border=\"1\" class=\"dataframe\">\n",
       "  <thead>\n",
       "    <tr style=\"text-align: right;\">\n",
       "      <th></th>\n",
       "      <th>Baseline (Default Hyperparameter)</th>\n",
       "    </tr>\n",
       "  </thead>\n",
       "  <tbody>\n",
       "    <tr>\n",
       "      <th>test - accuracy_score</th>\n",
       "      <td>0.772344</td>\n",
       "    </tr>\n",
       "    <tr>\n",
       "      <th>test - f1_score</th>\n",
       "      <td>0.478764</td>\n",
       "    </tr>\n",
       "    <tr>\n",
       "      <th>test - precision</th>\n",
       "      <td>0.469697</td>\n",
       "    </tr>\n",
       "    <tr>\n",
       "      <th>test - recall</th>\n",
       "      <td>0.488189</td>\n",
       "    </tr>\n",
       "    <tr>\n",
       "      <th>train - accuracy</th>\n",
       "      <td>0.802965</td>\n",
       "    </tr>\n",
       "    <tr>\n",
       "      <th>train - f1_score</th>\n",
       "      <td>0.785568</td>\n",
       "    </tr>\n",
       "    <tr>\n",
       "      <th>train - precision</th>\n",
       "      <td>0.861647</td>\n",
       "    </tr>\n",
       "    <tr>\n",
       "      <th>train - recall</th>\n",
       "      <td>0.721833</td>\n",
       "    </tr>\n",
       "  </tbody>\n",
       "</table>\n",
       "</div>"
      ],
      "text/plain": [
       "                       Baseline (Default Hyperparameter)\n",
       "test - accuracy_score                           0.772344\n",
       "test - f1_score                                 0.478764\n",
       "test - precision                                0.469697\n",
       "test - recall                                   0.488189\n",
       "train - accuracy                                0.802965\n",
       "train - f1_score                                0.785568\n",
       "train - precision                               0.861647\n",
       "train - recall                                  0.721833"
      ]
     },
     "execution_count": 58,
     "metadata": {},
     "output_type": "execute_result"
    }
   ],
   "source": [
    "#Create a new default table to later compare with the default F1 score test value and the one that was used using random search\n",
    "all_reports = {}\n",
    "def performance_report(all_reports, y_trains, y_train_predict_knn, y_test, y_test_predict_knn, name):\n",
    "  score_reports = {\n",
    "      'train - precision' : precision_score(y_trains, y_train_predict_knn),\n",
    "      'train - recall' : recall_score(y_trains, y_train_predict_knn),\n",
    "      'train - accuracy' : accuracy_score(y_trains, y_train_predict_knn),\n",
    "      'train - f1_score' : f1_score(y_trains, y_train_predict_knn),\n",
    "      'test - precision' : precision_score(y_test, y_test_predict_knn),\n",
    "      'test - recall' : recall_score(y_test, y_test_predict_knn),\n",
    "      'test - accuracy_score' : accuracy_score(y_test, y_test_predict_knn),\n",
    "      'test - f1_score' : f1_score(y_test, y_test_predict_knn),\n",
    "  }\n",
    "  all_reports[name] = score_reports\n",
    "  return all_reports\n",
    "\n",
    "all_reports = performance_report(all_reports, y_trains, y_train_predict_knn, y_test, y_test_predict_knn, 'Baseline (Default Hyperparameter)')\n",
    "pd.DataFrame(all_reports)"
   ]
  },
  {
   "cell_type": "code",
   "execution_count": 59,
   "metadata": {},
   "outputs": [
    {
     "data": {
      "text/html": [
       "<div>\n",
       "<style scoped>\n",
       "    .dataframe tbody tr th:only-of-type {\n",
       "        vertical-align: middle;\n",
       "    }\n",
       "\n",
       "    .dataframe tbody tr th {\n",
       "        vertical-align: top;\n",
       "    }\n",
       "\n",
       "    .dataframe thead th {\n",
       "        text-align: right;\n",
       "    }\n",
       "</style>\n",
       "<table border=\"1\" class=\"dataframe\">\n",
       "  <thead>\n",
       "    <tr style=\"text-align: right;\">\n",
       "      <th></th>\n",
       "      <th>Baseline (Default Hyperparameter)</th>\n",
       "      <th>Random Search</th>\n",
       "    </tr>\n",
       "  </thead>\n",
       "  <tbody>\n",
       "    <tr>\n",
       "      <th>train - precision</th>\n",
       "      <td>0.861647</td>\n",
       "      <td>0.972733</td>\n",
       "    </tr>\n",
       "    <tr>\n",
       "      <th>train - recall</th>\n",
       "      <td>0.721833</td>\n",
       "      <td>0.826954</td>\n",
       "    </tr>\n",
       "    <tr>\n",
       "      <th>train - accuracy</th>\n",
       "      <td>0.802965</td>\n",
       "      <td>0.901887</td>\n",
       "    </tr>\n",
       "    <tr>\n",
       "      <th>train - f1_score</th>\n",
       "      <td>0.785568</td>\n",
       "      <td>0.893939</td>\n",
       "    </tr>\n",
       "    <tr>\n",
       "      <th>test - precision</th>\n",
       "      <td>0.469697</td>\n",
       "      <td>0.474576</td>\n",
       "    </tr>\n",
       "    <tr>\n",
       "      <th>test - recall</th>\n",
       "      <td>0.488189</td>\n",
       "      <td>0.440945</td>\n",
       "    </tr>\n",
       "    <tr>\n",
       "      <th>test - accuracy_score</th>\n",
       "      <td>0.772344</td>\n",
       "      <td>0.775717</td>\n",
       "    </tr>\n",
       "    <tr>\n",
       "      <th>test - f1_score</th>\n",
       "      <td>0.478764</td>\n",
       "      <td>0.457143</td>\n",
       "    </tr>\n",
       "  </tbody>\n",
       "</table>\n",
       "</div>"
      ],
      "text/plain": [
       "                       Baseline (Default Hyperparameter)  Random Search\n",
       "train - precision                               0.861647       0.972733\n",
       "train - recall                                  0.721833       0.826954\n",
       "train - accuracy                                0.802965       0.901887\n",
       "train - f1_score                                0.785568       0.893939\n",
       "test - precision                                0.469697       0.474576\n",
       "test - recall                                   0.488189       0.440945\n",
       "test - accuracy_score                           0.772344       0.775717\n",
       "test - f1_score                                 0.478764       0.457143"
      ]
     },
     "execution_count": 59,
     "metadata": {},
     "output_type": "execute_result"
    }
   ],
   "source": [
    "#displays a comparison table of values ​​from the default f1 test and the random search method\n",
    "all_reports = performance_report(all_reports, y_trains, y_pred_train_finals, y_test, y_pred_test_finals, 'Random Search')\n",
    "pd.DataFrame(all_reports)"
   ]
  },
  {
   "cell_type": "markdown",
   "metadata": {},
   "source": [
    "Hadil: From the results, it can be concluded that for the F1score test, the better KNN model is the default one. So the model that will be used in data inference to predict whether the user will successfully pay or not is the default KNN"
   ]
  },
  {
   "cell_type": "code",
   "execution_count": 60,
   "metadata": {},
   "outputs": [],
   "source": [
    "#define the KNN function that has been hyperparameter tuned with the random search function to be saved in the pkl file\n",
    "model_knn=KNeighborsClassifier().fit(X_train_finals,y_trains)"
   ]
  },
  {
   "cell_type": "markdown",
   "metadata": {},
   "source": [
    "# x. Model Saving"
   ]
  },
  {
   "cell_type": "code",
   "execution_count": 61,
   "metadata": {},
   "outputs": [],
   "source": [
    "# Model Saving\n",
    "\n",
    "with open('scaler.pkl', 'wb') as file_1:\n",
    "  pickle.dump(scaler, file_1)\n",
    "\n",
    "with open('model_knn.pkl', 'wb') as file_2:\n",
    "  pickle.dump(model_knn, file_2)"
   ]
  }
 ],
 "metadata": {
  "kernelspec": {
   "display_name": "base",
   "language": "python",
   "name": "python3"
  },
  "language_info": {
   "codemirror_mode": {
    "name": "ipython",
    "version": 3
   },
   "file_extension": ".py",
   "mimetype": "text/x-python",
   "name": "python",
   "nbconvert_exporter": "python",
   "pygments_lexer": "ipython3",
   "version": "3.11.5"
  },
  "orig_nbformat": 4
 },
 "nbformat": 4,
 "nbformat_minor": 2
}
